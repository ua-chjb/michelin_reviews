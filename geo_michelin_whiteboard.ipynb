{
 "cells": [
  {
   "cell_type": "code",
   "execution_count": 2,
   "id": "a42eb128-863e-4eb0-b7b7-32924292e814",
   "metadata": {},
   "outputs": [],
   "source": [
    "import pandas as pd\n",
    "import numpy as np\n",
    "\n",
    "import plotly.express as px\n",
    "from plotly.subplots import make_subplots\n",
    "from plotly.offline import plot, iplot\n",
    "import plotly.graph_objs as go\n",
    "from plotly.offline import *\n",
    "\n",
    "from math import ceil\n",
    "from itertools import cycle\n",
    "\n",
    "import pycountry\n",
    "\n",
    "import nltk\n",
    "\n",
    "from urllib.request import urlopen\n",
    "import json\n",
    "\n",
    "from sklearn.linear_model import LinearRegression\n",
    "from scipy import stats\n",
    "\n",
    "\n",
    "pd.set_option('display.max_rows', None)\n",
    "pd.set_option('display.max_columns', None)\n",
    "pd.set_option('mode.chained_assignment',None)\n",
    "np.set_printoptions(threshold=np.inf)"
   ]
  },
  {
   "cell_type": "code",
   "execution_count": 4,
   "id": "2c5cbf99-c576-4d72-bb67-ab292ea6f898",
   "metadata": {},
   "outputs": [],
   "source": [
    "path = \"https://raw.githubusercontent.com/ua-chjb/michelin_reviews/refs/heads/main/assets/data/michelin_cleaned.csv\"\n",
    "\n",
    "michelin = pd.read_csv(path)"
   ]
  },
  {
   "cell_type": "code",
   "execution_count": 10,
   "id": "0b724bba-62e7-466f-8570-61b97b37178e",
   "metadata": {},
   "outputs": [],
   "source": [
    "import warnings\n",
    "warnings.filterwarnings(\"ignore\")"
   ]
  },
  {
   "cell_type": "code",
   "execution_count": 27,
   "id": "9dfbb67f-be1c-4c96-82e3-563cc4c88d7b",
   "metadata": {},
   "outputs": [
    {
     "data": {
      "application/vnd.plotly.v1+json": {
       "config": {
        "plotlyServerURL": "https://plot.ly"
       },
       "data": [
        {
         "alignmentgroup": "True",
         "hovertemplate": "Award=Selected Restaurants<br>value=%{x}<br>index=%{y}<extra></extra>",
         "legendgroup": "Selected Restaurants",
         "marker": {
          "color": "#636efa",
          "pattern": {
           "shape": ""
          }
         },
         "name": "Selected Restaurants",
         "offsetgroup": "Selected Restaurants",
         "orientation": "h",
         "showlegend": true,
         "textposition": "auto",
         "type": "bar",
         "x": [
          0.36909323116219667,
          0.7341601509840927,
          0.6755154639175258,
          0.6111691022964509,
          0.6686438122046848,
          0.6749891445940078,
          0.6946812829882257,
          0.7196391394864677,
          0.7417802726543705,
          0.6643321660830416,
          0.6086956521739131,
          0.657563025210084,
          0.5649193548387097,
          0.27692307692307694
         ],
         "xaxis": "x",
         "y": [
          "cashonly",
          "terrace",
          "average",
          "counter",
          "ac",
          "parking",
          "wheelchair",
          "view",
          "garden",
          "vegetarian",
          "sake",
          "valet",
          "wine",
          "noshoes"
         ],
         "yaxis": "y"
        },
        {
         "alignmentgroup": "True",
         "hovertemplate": "Award=Bib Gourmand<br>value=%{x}<br>index=%{y}<extra></extra>",
         "legendgroup": "Bib Gourmand",
         "marker": {
          "color": "#EF553B",
          "pattern": {
           "shape": ""
          }
         },
         "name": "Bib Gourmand",
         "offsetgroup": "Bib Gourmand",
         "orientation": "h",
         "showlegend": true,
         "textposition": "auto",
         "type": "bar",
         "x": [
          0.598978288633461,
          0.1942572121865732,
          0.2086340206185567,
          0.20511482254697286,
          0.19272142354478738,
          0.17585757707338254,
          0.15062931384490458,
          0.11034004163775156,
          0.09863672814755413,
          0.15307653826913456,
          0.10144927536231885,
          0.08823529411764706,
          0.08064516129032258,
          0.18461538461538463
         ],
         "xaxis": "x",
         "y": [
          "cashonly",
          "terrace",
          "average",
          "counter",
          "ac",
          "parking",
          "wheelchair",
          "view",
          "garden",
          "vegetarian",
          "sake",
          "valet",
          "wine",
          "noshoes"
         ],
         "yaxis": "y"
        },
        {
         "alignmentgroup": "True",
         "hovertemplate": "Award=1 Star<br>value=%{x}<br>index=%{y}<extra></extra>",
         "legendgroup": "1 Star",
         "marker": {
          "color": "#00cc96",
          "pattern": {
           "shape": ""
          }
         },
         "name": "1 Star",
         "offsetgroup": "1 Star",
         "orientation": "h",
         "showlegend": true,
         "textposition": "auto",
         "type": "bar",
         "x": [
          0.02681992337164751,
          0.05203558910757616,
          0.07474226804123711,
          0.1289144050104384,
          0.08253744847692772,
          0.08858011289622232,
          0.0876979293544458,
          0.0936849410131853,
          0.07778668805132317,
          0.09854927463731866,
          0.178743961352657,
          0.12394957983193278,
          0.16733870967741934,
          0.3076923076923077
         ],
         "xaxis": "x",
         "y": [
          "cashonly",
          "terrace",
          "average",
          "counter",
          "ac",
          "parking",
          "wheelchair",
          "view",
          "garden",
          "vegetarian",
          "sake",
          "valet",
          "wine",
          "noshoes"
         ],
         "yaxis": "y"
        },
        {
         "alignmentgroup": "True",
         "hovertemplate": "Award=2 Stars<br>value=%{x}<br>index=%{y}<extra></extra>",
         "legendgroup": "2 Stars",
         "marker": {
          "color": "#ab63fa",
          "pattern": {
           "shape": ""
          }
         },
         "name": "2 Stars",
         "offsetgroup": "2 Stars",
         "orientation": "h",
         "showlegend": true,
         "textposition": "auto",
         "type": "bar",
         "x": [
          0.0038314176245210726,
          0.016311674305742787,
          0.03176546391752577,
          0.04540709812108559,
          0.04242485171408465,
          0.045809813287016936,
          0.05034510759236703,
          0.05968077723802915,
          0.06094627105052125,
          0.062031015507753876,
          0.0821256038647343,
          0.09453781512605042,
          0.13790322580645162,
          0.15384615384615385
         ],
         "xaxis": "x",
         "y": [
          "cashonly",
          "terrace",
          "average",
          "counter",
          "ac",
          "parking",
          "wheelchair",
          "view",
          "garden",
          "vegetarian",
          "sake",
          "valet",
          "wine",
          "noshoes"
         ],
         "yaxis": "y"
        },
        {
         "alignmentgroup": "True",
         "hovertemplate": "Award=3 Stars<br>value=%{x}<br>index=%{y}<extra></extra>",
         "legendgroup": "3 Stars",
         "marker": {
          "color": "#FFA15A",
          "pattern": {
           "shape": ""
          }
         },
         "name": "3 Stars",
         "offsetgroup": "3 Stars",
         "orientation": "h",
         "showlegend": true,
         "textposition": "auto",
         "type": "bar",
         "x": [
          0.001277139208173691,
          0.0032353734160150984,
          0.009342783505154639,
          0.009394572025052192,
          0.013672464059515431,
          0.014763352149370386,
          0.01664636622005684,
          0.016655100624566273,
          0.020850040096230954,
          0.022011005502751375,
          0.028985507246376812,
          0.03571428571428571,
          0.049193548387096775,
          0.07692307692307693
         ],
         "xaxis": "x",
         "y": [
          "cashonly",
          "terrace",
          "average",
          "counter",
          "ac",
          "parking",
          "wheelchair",
          "view",
          "garden",
          "vegetarian",
          "sake",
          "valet",
          "wine",
          "noshoes"
         ],
         "yaxis": "y"
        }
       ],
       "layout": {
        "autosize": true,
        "barmode": "relative",
        "legend": {
         "title": {
          "text": "Award"
         },
         "tracegroupgap": 0,
         "visible": false
        },
        "margin": {
         "t": 60
        },
        "template": {
         "data": {
          "bar": [
           {
            "error_x": {
             "color": "#2a3f5f"
            },
            "error_y": {
             "color": "#2a3f5f"
            },
            "marker": {
             "line": {
              "color": "#E5ECF6",
              "width": 0.5
             },
             "pattern": {
              "fillmode": "overlay",
              "size": 10,
              "solidity": 0.2
             }
            },
            "type": "bar"
           }
          ],
          "barpolar": [
           {
            "marker": {
             "line": {
              "color": "#E5ECF6",
              "width": 0.5
             },
             "pattern": {
              "fillmode": "overlay",
              "size": 10,
              "solidity": 0.2
             }
            },
            "type": "barpolar"
           }
          ],
          "carpet": [
           {
            "aaxis": {
             "endlinecolor": "#2a3f5f",
             "gridcolor": "white",
             "linecolor": "white",
             "minorgridcolor": "white",
             "startlinecolor": "#2a3f5f"
            },
            "baxis": {
             "endlinecolor": "#2a3f5f",
             "gridcolor": "white",
             "linecolor": "white",
             "minorgridcolor": "white",
             "startlinecolor": "#2a3f5f"
            },
            "type": "carpet"
           }
          ],
          "choropleth": [
           {
            "colorbar": {
             "outlinewidth": 0,
             "ticks": ""
            },
            "type": "choropleth"
           }
          ],
          "contour": [
           {
            "colorbar": {
             "outlinewidth": 0,
             "ticks": ""
            },
            "colorscale": [
             [
              0,
              "#0d0887"
             ],
             [
              0.1111111111111111,
              "#46039f"
             ],
             [
              0.2222222222222222,
              "#7201a8"
             ],
             [
              0.3333333333333333,
              "#9c179e"
             ],
             [
              0.4444444444444444,
              "#bd3786"
             ],
             [
              0.5555555555555556,
              "#d8576b"
             ],
             [
              0.6666666666666666,
              "#ed7953"
             ],
             [
              0.7777777777777778,
              "#fb9f3a"
             ],
             [
              0.8888888888888888,
              "#fdca26"
             ],
             [
              1,
              "#f0f921"
             ]
            ],
            "type": "contour"
           }
          ],
          "contourcarpet": [
           {
            "colorbar": {
             "outlinewidth": 0,
             "ticks": ""
            },
            "type": "contourcarpet"
           }
          ],
          "heatmap": [
           {
            "colorbar": {
             "outlinewidth": 0,
             "ticks": ""
            },
            "colorscale": [
             [
              0,
              "#0d0887"
             ],
             [
              0.1111111111111111,
              "#46039f"
             ],
             [
              0.2222222222222222,
              "#7201a8"
             ],
             [
              0.3333333333333333,
              "#9c179e"
             ],
             [
              0.4444444444444444,
              "#bd3786"
             ],
             [
              0.5555555555555556,
              "#d8576b"
             ],
             [
              0.6666666666666666,
              "#ed7953"
             ],
             [
              0.7777777777777778,
              "#fb9f3a"
             ],
             [
              0.8888888888888888,
              "#fdca26"
             ],
             [
              1,
              "#f0f921"
             ]
            ],
            "type": "heatmap"
           }
          ],
          "heatmapgl": [
           {
            "colorbar": {
             "outlinewidth": 0,
             "ticks": ""
            },
            "colorscale": [
             [
              0,
              "#0d0887"
             ],
             [
              0.1111111111111111,
              "#46039f"
             ],
             [
              0.2222222222222222,
              "#7201a8"
             ],
             [
              0.3333333333333333,
              "#9c179e"
             ],
             [
              0.4444444444444444,
              "#bd3786"
             ],
             [
              0.5555555555555556,
              "#d8576b"
             ],
             [
              0.6666666666666666,
              "#ed7953"
             ],
             [
              0.7777777777777778,
              "#fb9f3a"
             ],
             [
              0.8888888888888888,
              "#fdca26"
             ],
             [
              1,
              "#f0f921"
             ]
            ],
            "type": "heatmapgl"
           }
          ],
          "histogram": [
           {
            "marker": {
             "pattern": {
              "fillmode": "overlay",
              "size": 10,
              "solidity": 0.2
             }
            },
            "type": "histogram"
           }
          ],
          "histogram2d": [
           {
            "colorbar": {
             "outlinewidth": 0,
             "ticks": ""
            },
            "colorscale": [
             [
              0,
              "#0d0887"
             ],
             [
              0.1111111111111111,
              "#46039f"
             ],
             [
              0.2222222222222222,
              "#7201a8"
             ],
             [
              0.3333333333333333,
              "#9c179e"
             ],
             [
              0.4444444444444444,
              "#bd3786"
             ],
             [
              0.5555555555555556,
              "#d8576b"
             ],
             [
              0.6666666666666666,
              "#ed7953"
             ],
             [
              0.7777777777777778,
              "#fb9f3a"
             ],
             [
              0.8888888888888888,
              "#fdca26"
             ],
             [
              1,
              "#f0f921"
             ]
            ],
            "type": "histogram2d"
           }
          ],
          "histogram2dcontour": [
           {
            "colorbar": {
             "outlinewidth": 0,
             "ticks": ""
            },
            "colorscale": [
             [
              0,
              "#0d0887"
             ],
             [
              0.1111111111111111,
              "#46039f"
             ],
             [
              0.2222222222222222,
              "#7201a8"
             ],
             [
              0.3333333333333333,
              "#9c179e"
             ],
             [
              0.4444444444444444,
              "#bd3786"
             ],
             [
              0.5555555555555556,
              "#d8576b"
             ],
             [
              0.6666666666666666,
              "#ed7953"
             ],
             [
              0.7777777777777778,
              "#fb9f3a"
             ],
             [
              0.8888888888888888,
              "#fdca26"
             ],
             [
              1,
              "#f0f921"
             ]
            ],
            "type": "histogram2dcontour"
           }
          ],
          "mesh3d": [
           {
            "colorbar": {
             "outlinewidth": 0,
             "ticks": ""
            },
            "type": "mesh3d"
           }
          ],
          "parcoords": [
           {
            "line": {
             "colorbar": {
              "outlinewidth": 0,
              "ticks": ""
             }
            },
            "type": "parcoords"
           }
          ],
          "pie": [
           {
            "automargin": true,
            "type": "pie"
           }
          ],
          "scatter": [
           {
            "fillpattern": {
             "fillmode": "overlay",
             "size": 10,
             "solidity": 0.2
            },
            "type": "scatter"
           }
          ],
          "scatter3d": [
           {
            "line": {
             "colorbar": {
              "outlinewidth": 0,
              "ticks": ""
             }
            },
            "marker": {
             "colorbar": {
              "outlinewidth": 0,
              "ticks": ""
             }
            },
            "type": "scatter3d"
           }
          ],
          "scattercarpet": [
           {
            "marker": {
             "colorbar": {
              "outlinewidth": 0,
              "ticks": ""
             }
            },
            "type": "scattercarpet"
           }
          ],
          "scattergeo": [
           {
            "marker": {
             "colorbar": {
              "outlinewidth": 0,
              "ticks": ""
             }
            },
            "type": "scattergeo"
           }
          ],
          "scattergl": [
           {
            "marker": {
             "colorbar": {
              "outlinewidth": 0,
              "ticks": ""
             }
            },
            "type": "scattergl"
           }
          ],
          "scattermapbox": [
           {
            "marker": {
             "colorbar": {
              "outlinewidth": 0,
              "ticks": ""
             }
            },
            "type": "scattermapbox"
           }
          ],
          "scatterpolar": [
           {
            "marker": {
             "colorbar": {
              "outlinewidth": 0,
              "ticks": ""
             }
            },
            "type": "scatterpolar"
           }
          ],
          "scatterpolargl": [
           {
            "marker": {
             "colorbar": {
              "outlinewidth": 0,
              "ticks": ""
             }
            },
            "type": "scatterpolargl"
           }
          ],
          "scatterternary": [
           {
            "marker": {
             "colorbar": {
              "outlinewidth": 0,
              "ticks": ""
             }
            },
            "type": "scatterternary"
           }
          ],
          "surface": [
           {
            "colorbar": {
             "outlinewidth": 0,
             "ticks": ""
            },
            "colorscale": [
             [
              0,
              "#0d0887"
             ],
             [
              0.1111111111111111,
              "#46039f"
             ],
             [
              0.2222222222222222,
              "#7201a8"
             ],
             [
              0.3333333333333333,
              "#9c179e"
             ],
             [
              0.4444444444444444,
              "#bd3786"
             ],
             [
              0.5555555555555556,
              "#d8576b"
             ],
             [
              0.6666666666666666,
              "#ed7953"
             ],
             [
              0.7777777777777778,
              "#fb9f3a"
             ],
             [
              0.8888888888888888,
              "#fdca26"
             ],
             [
              1,
              "#f0f921"
             ]
            ],
            "type": "surface"
           }
          ],
          "table": [
           {
            "cells": {
             "fill": {
              "color": "#EBF0F8"
             },
             "line": {
              "color": "white"
             }
            },
            "header": {
             "fill": {
              "color": "#C8D4E3"
             },
             "line": {
              "color": "white"
             }
            },
            "type": "table"
           }
          ]
         },
         "layout": {
          "annotationdefaults": {
           "arrowcolor": "#2a3f5f",
           "arrowhead": 0,
           "arrowwidth": 1
          },
          "autotypenumbers": "strict",
          "coloraxis": {
           "colorbar": {
            "outlinewidth": 0,
            "ticks": ""
           }
          },
          "colorscale": {
           "diverging": [
            [
             0,
             "#8e0152"
            ],
            [
             0.1,
             "#c51b7d"
            ],
            [
             0.2,
             "#de77ae"
            ],
            [
             0.3,
             "#f1b6da"
            ],
            [
             0.4,
             "#fde0ef"
            ],
            [
             0.5,
             "#f7f7f7"
            ],
            [
             0.6,
             "#e6f5d0"
            ],
            [
             0.7,
             "#b8e186"
            ],
            [
             0.8,
             "#7fbc41"
            ],
            [
             0.9,
             "#4d9221"
            ],
            [
             1,
             "#276419"
            ]
           ],
           "sequential": [
            [
             0,
             "#0d0887"
            ],
            [
             0.1111111111111111,
             "#46039f"
            ],
            [
             0.2222222222222222,
             "#7201a8"
            ],
            [
             0.3333333333333333,
             "#9c179e"
            ],
            [
             0.4444444444444444,
             "#bd3786"
            ],
            [
             0.5555555555555556,
             "#d8576b"
            ],
            [
             0.6666666666666666,
             "#ed7953"
            ],
            [
             0.7777777777777778,
             "#fb9f3a"
            ],
            [
             0.8888888888888888,
             "#fdca26"
            ],
            [
             1,
             "#f0f921"
            ]
           ],
           "sequentialminus": [
            [
             0,
             "#0d0887"
            ],
            [
             0.1111111111111111,
             "#46039f"
            ],
            [
             0.2222222222222222,
             "#7201a8"
            ],
            [
             0.3333333333333333,
             "#9c179e"
            ],
            [
             0.4444444444444444,
             "#bd3786"
            ],
            [
             0.5555555555555556,
             "#d8576b"
            ],
            [
             0.6666666666666666,
             "#ed7953"
            ],
            [
             0.7777777777777778,
             "#fb9f3a"
            ],
            [
             0.8888888888888888,
             "#fdca26"
            ],
            [
             1,
             "#f0f921"
            ]
           ]
          },
          "colorway": [
           "#636efa",
           "#EF553B",
           "#00cc96",
           "#ab63fa",
           "#FFA15A",
           "#19d3f3",
           "#FF6692",
           "#B6E880",
           "#FF97FF",
           "#FECB52"
          ],
          "font": {
           "color": "#2a3f5f"
          },
          "geo": {
           "bgcolor": "white",
           "lakecolor": "white",
           "landcolor": "#E5ECF6",
           "showlakes": true,
           "showland": true,
           "subunitcolor": "white"
          },
          "hoverlabel": {
           "align": "left"
          },
          "hovermode": "closest",
          "mapbox": {
           "style": "light"
          },
          "paper_bgcolor": "white",
          "plot_bgcolor": "#E5ECF6",
          "polar": {
           "angularaxis": {
            "gridcolor": "white",
            "linecolor": "white",
            "ticks": ""
           },
           "bgcolor": "#E5ECF6",
           "radialaxis": {
            "gridcolor": "white",
            "linecolor": "white",
            "ticks": ""
           }
          },
          "scene": {
           "xaxis": {
            "backgroundcolor": "#E5ECF6",
            "gridcolor": "white",
            "gridwidth": 2,
            "linecolor": "white",
            "showbackground": true,
            "ticks": "",
            "zerolinecolor": "white"
           },
           "yaxis": {
            "backgroundcolor": "#E5ECF6",
            "gridcolor": "white",
            "gridwidth": 2,
            "linecolor": "white",
            "showbackground": true,
            "ticks": "",
            "zerolinecolor": "white"
           },
           "zaxis": {
            "backgroundcolor": "#E5ECF6",
            "gridcolor": "white",
            "gridwidth": 2,
            "linecolor": "white",
            "showbackground": true,
            "ticks": "",
            "zerolinecolor": "white"
           }
          },
          "shapedefaults": {
           "line": {
            "color": "#2a3f5f"
           }
          },
          "ternary": {
           "aaxis": {
            "gridcolor": "white",
            "linecolor": "white",
            "ticks": ""
           },
           "baxis": {
            "gridcolor": "white",
            "linecolor": "white",
            "ticks": ""
           },
           "bgcolor": "#E5ECF6",
           "caxis": {
            "gridcolor": "white",
            "linecolor": "white",
            "ticks": ""
           }
          },
          "title": {
           "x": 0.05
          },
          "xaxis": {
           "automargin": true,
           "gridcolor": "white",
           "linecolor": "white",
           "ticks": "",
           "title": {
            "standoff": 15
           },
           "zerolinecolor": "white",
           "zerolinewidth": 2
          },
          "yaxis": {
           "automargin": true,
           "gridcolor": "white",
           "linecolor": "white",
           "ticks": "",
           "title": {
            "standoff": 15
           },
           "zerolinecolor": "white",
           "zerolinewidth": 2
          }
         }
        },
        "title": {
         "text": "percentage of each michelin award, by presence of amenities"
        },
        "xaxis": {
         "anchor": "y",
         "autorange": true,
         "domain": [
          0,
          1
         ],
         "range": [
          0,
          1.0526315789473686
         ],
         "title": {
          "text": "awards"
         },
         "type": "linear"
        },
        "yaxis": {
         "anchor": "x",
         "autorange": true,
         "domain": [
          0,
          1
         ],
         "range": [
          -0.5,
          13.5
         ],
         "title": {
          "text": "amenities"
         },
         "type": "category"
        }
       }
      },
      "image/png": "[encoded data removed]",
      "text/html": [
       "<div>                            <div id=\"37863118-dd50-4fa9-8f95-832458ab9af9\" class=\"plotly-graph-div\" style=\"height:525px; width:100%;\"></div>            <script type=\"text/javascript\">                require([\"plotly\"], function(Plotly) {                    window.PLOTLYENV=window.PLOTLYENV || {};                                    if (document.getElementById(\"37863118-dd50-4fa9-8f95-832458ab9af9\")) {                    Plotly.newPlot(                        \"37863118-dd50-4fa9-8f95-832458ab9af9\",                        [{\"alignmentgroup\":\"True\",\"hovertemplate\":\"Award=Selected Restaurants\\u003cbr\\u003evalue=%{x}\\u003cbr\\u003eindex=%{y}\\u003cextra\\u003e\\u003c\\u002fextra\\u003e\",\"legendgroup\":\"Selected Restaurants\",\"marker\":{\"color\":\"#636efa\",\"pattern\":{\"shape\":\"\"}},\"name\":\"Selected Restaurants\",\"offsetgroup\":\"Selected Restaurants\",\"orientation\":\"h\",\"showlegend\":true,\"textposition\":\"auto\",\"x\":[0.36909323116219667,0.7341601509840927,0.6755154639175258,0.6111691022964509,0.6686438122046848,0.6749891445940078,0.6946812829882257,0.7196391394864677,0.7417802726543705,0.6643321660830416,0.6086956521739131,0.657563025210084,0.5649193548387097,0.27692307692307694],\"xaxis\":\"x\",\"y\":[\"cashonly\",\"terrace\",\"average\",\"counter\",\"ac\",\"parking\",\"wheelchair\",\"view\",\"garden\",\"vegetarian\",\"sake\",\"valet\",\"wine\",\"noshoes\"],\"yaxis\":\"y\",\"type\":\"bar\"},{\"alignmentgroup\":\"True\",\"hovertemplate\":\"Award=Bib Gourmand\\u003cbr\\u003evalue=%{x}\\u003cbr\\u003eindex=%{y}\\u003cextra\\u003e\\u003c\\u002fextra\\u003e\",\"legendgroup\":\"Bib Gourmand\",\"marker\":{\"color\":\"#EF553B\",\"pattern\":{\"shape\":\"\"}},\"name\":\"Bib Gourmand\",\"offsetgroup\":\"Bib Gourmand\",\"orientation\":\"h\",\"showlegend\":true,\"textposition\":\"auto\",\"x\":[0.598978288633461,0.1942572121865732,0.2086340206185567,0.20511482254697286,0.19272142354478738,0.17585757707338254,0.15062931384490458,0.11034004163775156,0.09863672814755413,0.15307653826913456,0.10144927536231885,0.08823529411764706,0.08064516129032258,0.18461538461538463],\"xaxis\":\"x\",\"y\":[\"cashonly\",\"terrace\",\"average\",\"counter\",\"ac\",\"parking\",\"wheelchair\",\"view\",\"garden\",\"vegetarian\",\"sake\",\"valet\",\"wine\",\"noshoes\"],\"yaxis\":\"y\",\"type\":\"bar\"},{\"alignmentgroup\":\"True\",\"hovertemplate\":\"Award=1 Star\\u003cbr\\u003evalue=%{x}\\u003cbr\\u003eindex=%{y}\\u003cextra\\u003e\\u003c\\u002fextra\\u003e\",\"legendgroup\":\"1 Star\",\"marker\":{\"color\":\"#00cc96\",\"pattern\":{\"shape\":\"\"}},\"name\":\"1 Star\",\"offsetgroup\":\"1 Star\",\"orientation\":\"h\",\"showlegend\":true,\"textposition\":\"auto\",\"x\":[0.02681992337164751,0.05203558910757616,0.07474226804123711,0.1289144050104384,0.08253744847692772,0.08858011289622232,0.0876979293544458,0.0936849410131853,0.07778668805132317,0.09854927463731866,0.178743961352657,0.12394957983193278,0.16733870967741934,0.3076923076923077],\"xaxis\":\"x\",\"y\":[\"cashonly\",\"terrace\",\"average\",\"counter\",\"ac\",\"parking\",\"wheelchair\",\"view\",\"garden\",\"vegetarian\",\"sake\",\"valet\",\"wine\",\"noshoes\"],\"yaxis\":\"y\",\"type\":\"bar\"},{\"alignmentgroup\":\"True\",\"hovertemplate\":\"Award=2 Stars\\u003cbr\\u003evalue=%{x}\\u003cbr\\u003eindex=%{y}\\u003cextra\\u003e\\u003c\\u002fextra\\u003e\",\"legendgroup\":\"2 Stars\",\"marker\":{\"color\":\"#ab63fa\",\"pattern\":{\"shape\":\"\"}},\"name\":\"2 Stars\",\"offsetgroup\":\"2 Stars\",\"orientation\":\"h\",\"showlegend\":true,\"textposition\":\"auto\",\"x\":[0.0038314176245210726,0.016311674305742787,0.03176546391752577,0.04540709812108559,0.04242485171408465,0.045809813287016936,0.05034510759236703,0.05968077723802915,0.06094627105052125,0.062031015507753876,0.0821256038647343,0.09453781512605042,0.13790322580645162,0.15384615384615385],\"xaxis\":\"x\",\"y\":[\"cashonly\",\"terrace\",\"average\",\"counter\",\"ac\",\"parking\",\"wheelchair\",\"view\",\"garden\",\"vegetarian\",\"sake\",\"valet\",\"wine\",\"noshoes\"],\"yaxis\":\"y\",\"type\":\"bar\"},{\"alignmentgroup\":\"True\",\"hovertemplate\":\"Award=3 Stars\\u003cbr\\u003evalue=%{x}\\u003cbr\\u003eindex=%{y}\\u003cextra\\u003e\\u003c\\u002fextra\\u003e\",\"legendgroup\":\"3 Stars\",\"marker\":{\"color\":\"#FFA15A\",\"pattern\":{\"shape\":\"\"}},\"name\":\"3 Stars\",\"offsetgroup\":\"3 Stars\",\"orientation\":\"h\",\"showlegend\":true,\"textposition\":\"auto\",\"x\":[0.001277139208173691,0.0032353734160150984,0.009342783505154639,0.009394572025052192,0.013672464059515431,0.014763352149370386,0.01664636622005684,0.016655100624566273,0.020850040096230954,0.022011005502751375,0.028985507246376812,0.03571428571428571,0.049193548387096775,0.07692307692307693],\"xaxis\":\"x\",\"y\":[\"cashonly\",\"terrace\",\"average\",\"counter\",\"ac\",\"parking\",\"wheelchair\",\"view\",\"garden\",\"vegetarian\",\"sake\",\"valet\",\"wine\",\"noshoes\"],\"yaxis\":\"y\",\"type\":\"bar\"}],                        {\"template\":{\"data\":{\"histogram2dcontour\":[{\"type\":\"histogram2dcontour\",\"colorbar\":{\"outlinewidth\":0,\"ticks\":\"\"},\"colorscale\":[[0.0,\"#0d0887\"],[0.1111111111111111,\"#46039f\"],[0.2222222222222222,\"#7201a8\"],[0.3333333333333333,\"#9c179e\"],[0.4444444444444444,\"#bd3786\"],[0.5555555555555556,\"#d8576b\"],[0.6666666666666666,\"#ed7953\"],[0.7777777777777778,\"#fb9f3a\"],[0.8888888888888888,\"#fdca26\"],[1.0,\"#f0f921\"]]}],\"choropleth\":[{\"type\":\"choropleth\",\"colorbar\":{\"outlinewidth\":0,\"ticks\":\"\"}}],\"histogram2d\":[{\"type\":\"histogram2d\",\"colorbar\":{\"outlinewidth\":0,\"ticks\":\"\"},\"colorscale\":[[0.0,\"#0d0887\"],[0.1111111111111111,\"#46039f\"],[0.2222222222222222,\"#7201a8\"],[0.3333333333333333,\"#9c179e\"],[0.4444444444444444,\"#bd3786\"],[0.5555555555555556,\"#d8576b\"],[0.6666666666666666,\"#ed7953\"],[0.7777777777777778,\"#fb9f3a\"],[0.8888888888888888,\"#fdca26\"],[1.0,\"#f0f921\"]]}],\"heatmap\":[{\"type\":\"heatmap\",\"colorbar\":{\"outlinewidth\":0,\"ticks\":\"\"},\"colorscale\":[[0.0,\"#0d0887\"],[0.1111111111111111,\"#46039f\"],[0.2222222222222222,\"#7201a8\"],[0.3333333333333333,\"#9c179e\"],[0.4444444444444444,\"#bd3786\"],[0.5555555555555556,\"#d8576b\"],[0.6666666666666666,\"#ed7953\"],[0.7777777777777778,\"#fb9f3a\"],[0.8888888888888888,\"#fdca26\"],[1.0,\"#f0f921\"]]}],\"heatmapgl\":[{\"type\":\"heatmapgl\",\"colorbar\":{\"outlinewidth\":0,\"ticks\":\"\"},\"colorscale\":[[0.0,\"#0d0887\"],[0.1111111111111111,\"#46039f\"],[0.2222222222222222,\"#7201a8\"],[0.3333333333333333,\"#9c179e\"],[0.4444444444444444,\"#bd3786\"],[0.5555555555555556,\"#d8576b\"],[0.6666666666666666,\"#ed7953\"],[0.7777777777777778,\"#fb9f3a\"],[0.8888888888888888,\"#fdca26\"],[1.0,\"#f0f921\"]]}],\"contourcarpet\":[{\"type\":\"contourcarpet\",\"colorbar\":{\"outlinewidth\":0,\"ticks\":\"\"}}],\"contour\":[{\"type\":\"contour\",\"colorbar\":{\"outlinewidth\":0,\"ticks\":\"\"},\"colorscale\":[[0.0,\"#0d0887\"],[0.1111111111111111,\"#46039f\"],[0.2222222222222222,\"#7201a8\"],[0.3333333333333333,\"#9c179e\"],[0.4444444444444444,\"#bd3786\"],[0.5555555555555556,\"#d8576b\"],[0.6666666666666666,\"#ed7953\"],[0.7777777777777778,\"#fb9f3a\"],[0.8888888888888888,\"#fdca26\"],[1.0,\"#f0f921\"]]}],\"surface\":[{\"type\":\"surface\",\"colorbar\":{\"outlinewidth\":0,\"ticks\":\"\"},\"colorscale\":[[0.0,\"#0d0887\"],[0.1111111111111111,\"#46039f\"],[0.2222222222222222,\"#7201a8\"],[0.3333333333333333,\"#9c179e\"],[0.4444444444444444,\"#bd3786\"],[0.5555555555555556,\"#d8576b\"],[0.6666666666666666,\"#ed7953\"],[0.7777777777777778,\"#fb9f3a\"],[0.8888888888888888,\"#fdca26\"],[1.0,\"#f0f921\"]]}],\"mesh3d\":[{\"type\":\"mesh3d\",\"colorbar\":{\"outlinewidth\":0,\"ticks\":\"\"}}],\"scatter\":[{\"fillpattern\":{\"fillmode\":\"overlay\",\"size\":10,\"solidity\":0.2},\"type\":\"scatter\"}],\"parcoords\":[{\"type\":\"parcoords\",\"line\":{\"colorbar\":{\"outlinewidth\":0,\"ticks\":\"\"}}}],\"scatterpolargl\":[{\"type\":\"scatterpolargl\",\"marker\":{\"colorbar\":{\"outlinewidth\":0,\"ticks\":\"\"}}}],\"bar\":[{\"error_x\":{\"color\":\"#2a3f5f\"},\"error_y\":{\"color\":\"#2a3f5f\"},\"marker\":{\"line\":{\"color\":\"#E5ECF6\",\"width\":0.5},\"pattern\":{\"fillmode\":\"overlay\",\"size\":10,\"solidity\":0.2}},\"type\":\"bar\"}],\"scattergeo\":[{\"type\":\"scattergeo\",\"marker\":{\"colorbar\":{\"outlinewidth\":0,\"ticks\":\"\"}}}],\"scatterpolar\":[{\"type\":\"scatterpolar\",\"marker\":{\"colorbar\":{\"outlinewidth\":0,\"ticks\":\"\"}}}],\"histogram\":[{\"marker\":{\"pattern\":{\"fillmode\":\"overlay\",\"size\":10,\"solidity\":0.2}},\"type\":\"histogram\"}],\"scattergl\":[{\"type\":\"scattergl\",\"marker\":{\"colorbar\":{\"outlinewidth\":0,\"ticks\":\"\"}}}],\"scatter3d\":[{\"type\":\"scatter3d\",\"line\":{\"colorbar\":{\"outlinewidth\":0,\"ticks\":\"\"}},\"marker\":{\"colorbar\":{\"outlinewidth\":0,\"ticks\":\"\"}}}],\"scattermapbox\":[{\"type\":\"scattermapbox\",\"marker\":{\"colorbar\":{\"outlinewidth\":0,\"ticks\":\"\"}}}],\"scatterternary\":[{\"type\":\"scatterternary\",\"marker\":{\"colorbar\":{\"outlinewidth\":0,\"ticks\":\"\"}}}],\"scattercarpet\":[{\"type\":\"scattercarpet\",\"marker\":{\"colorbar\":{\"outlinewidth\":0,\"ticks\":\"\"}}}],\"carpet\":[{\"aaxis\":{\"endlinecolor\":\"#2a3f5f\",\"gridcolor\":\"white\",\"linecolor\":\"white\",\"minorgridcolor\":\"white\",\"startlinecolor\":\"#2a3f5f\"},\"baxis\":{\"endlinecolor\":\"#2a3f5f\",\"gridcolor\":\"white\",\"linecolor\":\"white\",\"minorgridcolor\":\"white\",\"startlinecolor\":\"#2a3f5f\"},\"type\":\"carpet\"}],\"table\":[{\"cells\":{\"fill\":{\"color\":\"#EBF0F8\"},\"line\":{\"color\":\"white\"}},\"header\":{\"fill\":{\"color\":\"#C8D4E3\"},\"line\":{\"color\":\"white\"}},\"type\":\"table\"}],\"barpolar\":[{\"marker\":{\"line\":{\"color\":\"#E5ECF6\",\"width\":0.5},\"pattern\":{\"fillmode\":\"overlay\",\"size\":10,\"solidity\":0.2}},\"type\":\"barpolar\"}],\"pie\":[{\"automargin\":true,\"type\":\"pie\"}]},\"layout\":{\"autotypenumbers\":\"strict\",\"colorway\":[\"#636efa\",\"#EF553B\",\"#00cc96\",\"#ab63fa\",\"#FFA15A\",\"#19d3f3\",\"#FF6692\",\"#B6E880\",\"#FF97FF\",\"#FECB52\"],\"font\":{\"color\":\"#2a3f5f\"},\"hovermode\":\"closest\",\"hoverlabel\":{\"align\":\"left\"},\"paper_bgcolor\":\"white\",\"plot_bgcolor\":\"#E5ECF6\",\"polar\":{\"bgcolor\":\"#E5ECF6\",\"angularaxis\":{\"gridcolor\":\"white\",\"linecolor\":\"white\",\"ticks\":\"\"},\"radialaxis\":{\"gridcolor\":\"white\",\"linecolor\":\"white\",\"ticks\":\"\"}},\"ternary\":{\"bgcolor\":\"#E5ECF6\",\"aaxis\":{\"gridcolor\":\"white\",\"linecolor\":\"white\",\"ticks\":\"\"},\"baxis\":{\"gridcolor\":\"white\",\"linecolor\":\"white\",\"ticks\":\"\"},\"caxis\":{\"gridcolor\":\"white\",\"linecolor\":\"white\",\"ticks\":\"\"}},\"coloraxis\":{\"colorbar\":{\"outlinewidth\":0,\"ticks\":\"\"}},\"colorscale\":{\"sequential\":[[0.0,\"#0d0887\"],[0.1111111111111111,\"#46039f\"],[0.2222222222222222,\"#7201a8\"],[0.3333333333333333,\"#9c179e\"],[0.4444444444444444,\"#bd3786\"],[0.5555555555555556,\"#d8576b\"],[0.6666666666666666,\"#ed7953\"],[0.7777777777777778,\"#fb9f3a\"],[0.8888888888888888,\"#fdca26\"],[1.0,\"#f0f921\"]],\"sequentialminus\":[[0.0,\"#0d0887\"],[0.1111111111111111,\"#46039f\"],[0.2222222222222222,\"#7201a8\"],[0.3333333333333333,\"#9c179e\"],[0.4444444444444444,\"#bd3786\"],[0.5555555555555556,\"#d8576b\"],[0.6666666666666666,\"#ed7953\"],[0.7777777777777778,\"#fb9f3a\"],[0.8888888888888888,\"#fdca26\"],[1.0,\"#f0f921\"]],\"diverging\":[[0,\"#8e0152\"],[0.1,\"#c51b7d\"],[0.2,\"#de77ae\"],[0.3,\"#f1b6da\"],[0.4,\"#fde0ef\"],[0.5,\"#f7f7f7\"],[0.6,\"#e6f5d0\"],[0.7,\"#b8e186\"],[0.8,\"#7fbc41\"],[0.9,\"#4d9221\"],[1,\"#276419\"]]},\"xaxis\":{\"gridcolor\":\"white\",\"linecolor\":\"white\",\"ticks\":\"\",\"title\":{\"standoff\":15},\"zerolinecolor\":\"white\",\"automargin\":true,\"zerolinewidth\":2},\"yaxis\":{\"gridcolor\":\"white\",\"linecolor\":\"white\",\"ticks\":\"\",\"title\":{\"standoff\":15},\"zerolinecolor\":\"white\",\"automargin\":true,\"zerolinewidth\":2},\"scene\":{\"xaxis\":{\"backgroundcolor\":\"#E5ECF6\",\"gridcolor\":\"white\",\"linecolor\":\"white\",\"showbackground\":true,\"ticks\":\"\",\"zerolinecolor\":\"white\",\"gridwidth\":2},\"yaxis\":{\"backgroundcolor\":\"#E5ECF6\",\"gridcolor\":\"white\",\"linecolor\":\"white\",\"showbackground\":true,\"ticks\":\"\",\"zerolinecolor\":\"white\",\"gridwidth\":2},\"zaxis\":{\"backgroundcolor\":\"#E5ECF6\",\"gridcolor\":\"white\",\"linecolor\":\"white\",\"showbackground\":true,\"ticks\":\"\",\"zerolinecolor\":\"white\",\"gridwidth\":2}},\"shapedefaults\":{\"line\":{\"color\":\"#2a3f5f\"}},\"annotationdefaults\":{\"arrowcolor\":\"#2a3f5f\",\"arrowhead\":0,\"arrowwidth\":1},\"geo\":{\"bgcolor\":\"white\",\"landcolor\":\"#E5ECF6\",\"subunitcolor\":\"white\",\"showland\":true,\"showlakes\":true,\"lakecolor\":\"white\"},\"title\":{\"x\":0.05},\"mapbox\":{\"style\":\"light\"}}},\"xaxis\":{\"anchor\":\"y\",\"domain\":[0.0,1.0],\"title\":{\"text\":\"awards\"}},\"yaxis\":{\"anchor\":\"x\",\"domain\":[0.0,1.0],\"title\":{\"text\":\"amenities\"}},\"legend\":{\"title\":{\"text\":\"Award\"},\"tracegroupgap\":0,\"visible\":false},\"margin\":{\"t\":60},\"barmode\":\"relative\",\"title\":{\"text\":\"percentage of each michelin award, by presence of amenities\"}},                        {\"responsive\": true}                    ).then(function(){\n",
       "                            \n",
       "var gd = document.getElementById('37863118-dd50-4fa9-8f95-832458ab9af9');\n",
       "var x = new MutationObserver(function (mutations, observer) {{\n",
       "        var display = window.getComputedStyle(gd).display;\n",
       "        if (!display || display === 'none') {{\n",
       "            console.log([gd, 'removed!']);\n",
       "            Plotly.purge(gd);\n",
       "            observer.disconnect();\n",
       "        }}\n",
       "}});\n",
       "\n",
       "// Listen for the removal of the full notebook cells\n",
       "var notebookContainer = gd.closest('#notebook-container');\n",
       "if (notebookContainer) {{\n",
       "    x.observe(notebookContainer, {childList: true});\n",
       "}}\n",
       "\n",
       "// Listen for the clearing of the current output cell\n",
       "var outputEl = gd.closest('.output');\n",
       "if (outputEl) {{\n",
       "    x.observe(outputEl, {childList: true});\n",
       "}}\n",
       "\n",
       "                        })                };                });            </script>        </div>"
      ]
     },
     "metadata": {},
     "output_type": "display_data"
    }
   ],
   "source": [
    "fig_H"
   ]
  },
  {
   "cell_type": "code",
   "execution_count": 26,
   "id": "b4d1c14d-dab9-47dd-8c47-830a4cab6db9",
   "metadata": {},
   "outputs": [],
   "source": [
    "def fig_h_func_2(df):\n",
    "    onehot_cols = [ \n",
    "                \"ac\",\t\n",
    "                \"wheelchair\", \n",
    "                \"parking\", \n",
    "                \"garden\",\t\n",
    "                \"wine\",\t\n",
    "                \"terrace\", \n",
    "                \"valet\", \n",
    "                \"vegetarian\", \n",
    "                \"counter\", \n",
    "                \"view\",\n",
    "                \"noshoes\", \n",
    "                \"cashonly\", \n",
    "                \"sake\"\n",
    "                ]\n",
    "\n",
    "    # define function for pivot of bar_percentage chart\n",
    "    def pivot_table_from_count(df1, x, y):\n",
    "\n",
    "        gb = df1.groupby([x, y]).count().reset_index().rename(columns={df.columns[0]: \"count\"}).iloc[::, :3]\n",
    "        pivot = gb.pivot(columns=x, index=y)\n",
    "        pivot.columns = pivot.columns.droplevel()\n",
    "        \n",
    "        pivot[\"sum\"] = pivot.sum(axis=1)\n",
    "        \n",
    "        for col in pivot.columns:\n",
    "            for s in pivot.index:\n",
    "                pivot.loc[s, col] = (pivot.loc[s, col] / pivot.loc[s, \"sum\"])\n",
    "\n",
    "        pivot.index = [\"\".join([y, str(0)]), y]\n",
    "        \n",
    "        return pivot.drop([\"sum\"], axis=1).drop(\"\".join([y, str(0)]), axis=0)\n",
    "        \n",
    "    # combine data for of bar_percentage chart     \n",
    "    onehot_barchart_dict = {}\n",
    "    for onehot in onehot_cols:\n",
    "        try:\n",
    "            onehot_barchart_dict[onehot] = pivot_table_from_count(df, \"Award\", onehot)\n",
    "        except:\n",
    "            pass\n",
    "\n",
    "    onehot_big_df = pd.concat(onehot_barchart_dict.values())\n",
    "    onehot_big_df = onehot_big_df.T[::-1].T\n",
    "\n",
    "    onehot_big_df = onehot_big_df[[\"Selected Restaurants\", \"Bib Gourmand\", \"1 Star\", \"2 Stars\", \"3 Stars\"]]\n",
    "    x = \"Award\"\n",
    "    df = michelin # why is this here\n",
    "\n",
    "    gb = michelin.groupby([x]).count().reset_index().rename(columns={df.columns[0]: \"count\"}).iloc[::, :2]\n",
    "    pivot = gb.set_index(\"Award\").T\n",
    "\n",
    "    pivot[\"sum\"] = pivot.sum(axis=1)\n",
    "\n",
    "    # turn to percentage of data\n",
    "    for col in pivot.columns:\n",
    "        for s in pivot.index:\n",
    "            pivot.loc[s, col] = (pivot.loc[s, col] / pivot.loc[s, \"sum\"])\n",
    "\n",
    "    pivot = pivot.T.rename(columns={\"count\": \"average\"}).T\n",
    "\n",
    "    pivot = pivot.drop([\"sum\"], axis=1)\n",
    "\n",
    "    pivot = pivot[[\"Selected Restaurants\", \"Bib Gourmand\", \"1 Star\", \"2 Stars\", \"3 Stars\"]]\n",
    "\n",
    "    # finalize full data in proper format, concatenated with \"average\" feature\n",
    "    onehot_big_pivot = pd.concat([onehot_big_df, pivot])\n",
    "    onehot_big_pivot = onehot_big_pivot.sort_values(by=[\"3 Stars\"], ascending=True)\n",
    "\n",
    "    return onehot_big_pivot\n",
    "\n",
    "def fig_h_func_1(pivot):\n",
    "    return px.bar(pivot, x=pivot.columns, y=pivot.index).update_layout({\n",
    "        \"title\": \"percentage of each michelin award, by presence of amenities\", \n",
    "        \"xaxis\": {\"title\": \"awards\"}, \n",
    "        \"yaxis\": {\"title\": \"amenities\"},\n",
    "        \"legend\" : {\"visible\": False}\n",
    "    })\n",
    "\n",
    "\n",
    "fig_H = fig_h_func_1(fig_h_func_2(michelin))"
   ]
  },
  {
   "cell_type": "code",
   "execution_count": 20,
   "id": "40aa347b-4e9a-49c9-805e-f1289adb5fe9",
   "metadata": {},
   "outputs": [
    {
     "data": {
      "application/vnd.plotly.v1+json": {
       "config": {
        "plotlyServerURL": "https://plot.ly"
       },
       "data": [
        {
         "alignmentgroup": "True",
         "hovertemplate": "Award=Selected Restaurants<br>value=%{x}<br>index=%{y}<extra></extra>",
         "legendgroup": "Selected Restaurants",
         "marker": {
          "color": "#636efa",
          "pattern": {
           "shape": ""
          }
         },
         "name": "Selected Restaurants",
         "offsetgroup": "Selected Restaurants",
         "orientation": "h",
         "showlegend": true,
         "textposition": "auto",
         "type": "bar",
         "x": [
          0.36909323116219667,
          0.7341601509840927,
          0.6755154639175258,
          0.6111691022964509,
          0.6686438122046848,
          0.6749891445940078,
          0.6946812829882257,
          0.7196391394864677,
          0.7417802726543705,
          0.6643321660830416,
          0.6086956521739131,
          0.657563025210084,
          0.5649193548387097,
          0.27692307692307694
         ],
         "xaxis": "x",
         "y": [
          "cashonly",
          "terrace",
          "average",
          "counter",
          "ac",
          "parking",
          "wheelchair",
          "view",
          "garden",
          "vegetarian",
          "sake",
          "valet",
          "wine",
          "noshoes"
         ],
         "yaxis": "y"
        },
        {
         "alignmentgroup": "True",
         "hovertemplate": "Award=Bib Gourmand<br>value=%{x}<br>index=%{y}<extra></extra>",
         "legendgroup": "Bib Gourmand",
         "marker": {
          "color": "#EF553B",
          "pattern": {
           "shape": ""
          }
         },
         "name": "Bib Gourmand",
         "offsetgroup": "Bib Gourmand",
         "orientation": "h",
         "showlegend": true,
         "textposition": "auto",
         "type": "bar",
         "x": [
          0.598978288633461,
          0.1942572121865732,
          0.2086340206185567,
          0.20511482254697286,
          0.19272142354478738,
          0.17585757707338254,
          0.15062931384490458,
          0.11034004163775156,
          0.09863672814755413,
          0.15307653826913456,
          0.10144927536231885,
          0.08823529411764706,
          0.08064516129032258,
          0.18461538461538463
         ],
         "xaxis": "x",
         "y": [
          "cashonly",
          "terrace",
          "average",
          "counter",
          "ac",
          "parking",
          "wheelchair",
          "view",
          "garden",
          "vegetarian",
          "sake",
          "valet",
          "wine",
          "noshoes"
         ],
         "yaxis": "y"
        },
        {
         "alignmentgroup": "True",
         "hovertemplate": "Award=1 Star<br>value=%{x}<br>index=%{y}<extra></extra>",
         "legendgroup": "1 Star",
         "marker": {
          "color": "#00cc96",
          "pattern": {
           "shape": ""
          }
         },
         "name": "1 Star",
         "offsetgroup": "1 Star",
         "orientation": "h",
         "showlegend": true,
         "textposition": "auto",
         "type": "bar",
         "x": [
          0.02681992337164751,
          0.05203558910757616,
          0.07474226804123711,
          0.1289144050104384,
          0.08253744847692772,
          0.08858011289622232,
          0.0876979293544458,
          0.0936849410131853,
          0.07778668805132317,
          0.09854927463731866,
          0.178743961352657,
          0.12394957983193278,
          0.16733870967741934,
          0.3076923076923077
         ],
         "xaxis": "x",
         "y": [
          "cashonly",
          "terrace",
          "average",
          "counter",
          "ac",
          "parking",
          "wheelchair",
          "view",
          "garden",
          "vegetarian",
          "sake",
          "valet",
          "wine",
          "noshoes"
         ],
         "yaxis": "y"
        },
        {
         "alignmentgroup": "True",
         "hovertemplate": "Award=2 Stars<br>value=%{x}<br>index=%{y}<extra></extra>",
         "legendgroup": "2 Stars",
         "marker": {
          "color": "#ab63fa",
          "pattern": {
           "shape": ""
          }
         },
         "name": "2 Stars",
         "offsetgroup": "2 Stars",
         "orientation": "h",
         "showlegend": true,
         "textposition": "auto",
         "type": "bar",
         "x": [
          0.0038314176245210726,
          0.016311674305742787,
          0.03176546391752577,
          0.04540709812108559,
          0.04242485171408465,
          0.045809813287016936,
          0.05034510759236703,
          0.05968077723802915,
          0.06094627105052125,
          0.062031015507753876,
          0.0821256038647343,
          0.09453781512605042,
          0.13790322580645162,
          0.15384615384615385
         ],
         "xaxis": "x",
         "y": [
          "cashonly",
          "terrace",
          "average",
          "counter",
          "ac",
          "parking",
          "wheelchair",
          "view",
          "garden",
          "vegetarian",
          "sake",
          "valet",
          "wine",
          "noshoes"
         ],
         "yaxis": "y"
        },
        {
         "alignmentgroup": "True",
         "hovertemplate": "Award=3 Stars<br>value=%{x}<br>index=%{y}<extra></extra>",
         "legendgroup": "3 Stars",
         "marker": {
          "color": "#FFA15A",
          "pattern": {
           "shape": ""
          }
         },
         "name": "3 Stars",
         "offsetgroup": "3 Stars",
         "orientation": "h",
         "showlegend": true,
         "textposition": "auto",
         "type": "bar",
         "x": [
          0.001277139208173691,
          0.0032353734160150984,
          0.009342783505154639,
          0.009394572025052192,
          0.013672464059515431,
          0.014763352149370386,
          0.01664636622005684,
          0.016655100624566273,
          0.020850040096230954,
          0.022011005502751375,
          0.028985507246376812,
          0.03571428571428571,
          0.049193548387096775,
          0.07692307692307693
         ],
         "xaxis": "x",
         "y": [
          "cashonly",
          "terrace",
          "average",
          "counter",
          "ac",
          "parking",
          "wheelchair",
          "view",
          "garden",
          "vegetarian",
          "sake",
          "valet",
          "wine",
          "noshoes"
         ],
         "yaxis": "y"
        }
       ],
       "layout": {
        "autosize": true,
        "barmode": "relative",
        "legend": {
         "title": {
          "text": "Award"
         },
         "tracegroupgap": 0,
         "visible": false
        },
        "margin": {
         "t": 60
        },
        "template": {
         "data": {
          "bar": [
           {
            "error_x": {
             "color": "#2a3f5f"
            },
            "error_y": {
             "color": "#2a3f5f"
            },
            "marker": {
             "line": {
              "color": "#E5ECF6",
              "width": 0.5
             },
             "pattern": {
              "fillmode": "overlay",
              "size": 10,
              "solidity": 0.2
             }
            },
            "type": "bar"
           }
          ],
          "barpolar": [
           {
            "marker": {
             "line": {
              "color": "#E5ECF6",
              "width": 0.5
             },
             "pattern": {
              "fillmode": "overlay",
              "size": 10,
              "solidity": 0.2
             }
            },
            "type": "barpolar"
           }
          ],
          "carpet": [
           {
            "aaxis": {
             "endlinecolor": "#2a3f5f",
             "gridcolor": "white",
             "linecolor": "white",
             "minorgridcolor": "white",
             "startlinecolor": "#2a3f5f"
            },
            "baxis": {
             "endlinecolor": "#2a3f5f",
             "gridcolor": "white",
             "linecolor": "white",
             "minorgridcolor": "white",
             "startlinecolor": "#2a3f5f"
            },
            "type": "carpet"
           }
          ],
          "choropleth": [
           {
            "colorbar": {
             "outlinewidth": 0,
             "ticks": ""
            },
            "type": "choropleth"
           }
          ],
          "contour": [
           {
            "colorbar": {
             "outlinewidth": 0,
             "ticks": ""
            },
            "colorscale": [
             [
              0,
              "#0d0887"
             ],
             [
              0.1111111111111111,
              "#46039f"
             ],
             [
              0.2222222222222222,
              "#7201a8"
             ],
             [
              0.3333333333333333,
              "#9c179e"
             ],
             [
              0.4444444444444444,
              "#bd3786"
             ],
             [
              0.5555555555555556,
              "#d8576b"
             ],
             [
              0.6666666666666666,
              "#ed7953"
             ],
             [
              0.7777777777777778,
              "#fb9f3a"
             ],
             [
              0.8888888888888888,
              "#fdca26"
             ],
             [
              1,
              "#f0f921"
             ]
            ],
            "type": "contour"
           }
          ],
          "contourcarpet": [
           {
            "colorbar": {
             "outlinewidth": 0,
             "ticks": ""
            },
            "type": "contourcarpet"
           }
          ],
          "heatmap": [
           {
            "colorbar": {
             "outlinewidth": 0,
             "ticks": ""
            },
            "colorscale": [
             [
              0,
              "#0d0887"
             ],
             [
              0.1111111111111111,
              "#46039f"
             ],
             [
              0.2222222222222222,
              "#7201a8"
             ],
             [
              0.3333333333333333,
              "#9c179e"
             ],
             [
              0.4444444444444444,
              "#bd3786"
             ],
             [
              0.5555555555555556,
              "#d8576b"
             ],
             [
              0.6666666666666666,
              "#ed7953"
             ],
             [
              0.7777777777777778,
              "#fb9f3a"
             ],
             [
              0.8888888888888888,
              "#fdca26"
             ],
             [
              1,
              "#f0f921"
             ]
            ],
            "type": "heatmap"
           }
          ],
          "heatmapgl": [
           {
            "colorbar": {
             "outlinewidth": 0,
             "ticks": ""
            },
            "colorscale": [
             [
              0,
              "#0d0887"
             ],
             [
              0.1111111111111111,
              "#46039f"
             ],
             [
              0.2222222222222222,
              "#7201a8"
             ],
             [
              0.3333333333333333,
              "#9c179e"
             ],
             [
              0.4444444444444444,
              "#bd3786"
             ],
             [
              0.5555555555555556,
              "#d8576b"
             ],
             [
              0.6666666666666666,
              "#ed7953"
             ],
             [
              0.7777777777777778,
              "#fb9f3a"
             ],
             [
              0.8888888888888888,
              "#fdca26"
             ],
             [
              1,
              "#f0f921"
             ]
            ],
            "type": "heatmapgl"
           }
          ],
          "histogram": [
           {
            "marker": {
             "pattern": {
              "fillmode": "overlay",
              "size": 10,
              "solidity": 0.2
             }
            },
            "type": "histogram"
           }
          ],
          "histogram2d": [
           {
            "colorbar": {
             "outlinewidth": 0,
             "ticks": ""
            },
            "colorscale": [
             [
              0,
              "#0d0887"
             ],
             [
              0.1111111111111111,
              "#46039f"
             ],
             [
              0.2222222222222222,
              "#7201a8"
             ],
             [
              0.3333333333333333,
              "#9c179e"
             ],
             [
              0.4444444444444444,
              "#bd3786"
             ],
             [
              0.5555555555555556,
              "#d8576b"
             ],
             [
              0.6666666666666666,
              "#ed7953"
             ],
             [
              0.7777777777777778,
              "#fb9f3a"
             ],
             [
              0.8888888888888888,
              "#fdca26"
             ],
             [
              1,
              "#f0f921"
             ]
            ],
            "type": "histogram2d"
           }
          ],
          "histogram2dcontour": [
           {
            "colorbar": {
             "outlinewidth": 0,
             "ticks": ""
            },
            "colorscale": [
             [
              0,
              "#0d0887"
             ],
             [
              0.1111111111111111,
              "#46039f"
             ],
             [
              0.2222222222222222,
              "#7201a8"
             ],
             [
              0.3333333333333333,
              "#9c179e"
             ],
             [
              0.4444444444444444,
              "#bd3786"
             ],
             [
              0.5555555555555556,
              "#d8576b"
             ],
             [
              0.6666666666666666,
              "#ed7953"
             ],
             [
              0.7777777777777778,
              "#fb9f3a"
             ],
             [
              0.8888888888888888,
              "#fdca26"
             ],
             [
              1,
              "#f0f921"
             ]
            ],
            "type": "histogram2dcontour"
           }
          ],
          "mesh3d": [
           {
            "colorbar": {
             "outlinewidth": 0,
             "ticks": ""
            },
            "type": "mesh3d"
           }
          ],
          "parcoords": [
           {
            "line": {
             "colorbar": {
              "outlinewidth": 0,
              "ticks": ""
             }
            },
            "type": "parcoords"
           }
          ],
          "pie": [
           {
            "automargin": true,
            "type": "pie"
           }
          ],
          "scatter": [
           {
            "fillpattern": {
             "fillmode": "overlay",
             "size": 10,
             "solidity": 0.2
            },
            "type": "scatter"
           }
          ],
          "scatter3d": [
           {
            "line": {
             "colorbar": {
              "outlinewidth": 0,
              "ticks": ""
             }
            },
            "marker": {
             "colorbar": {
              "outlinewidth": 0,
              "ticks": ""
             }
            },
            "type": "scatter3d"
           }
          ],
          "scattercarpet": [
           {
            "marker": {
             "colorbar": {
              "outlinewidth": 0,
              "ticks": ""
             }
            },
            "type": "scattercarpet"
           }
          ],
          "scattergeo": [
           {
            "marker": {
             "colorbar": {
              "outlinewidth": 0,
              "ticks": ""
             }
            },
            "type": "scattergeo"
           }
          ],
          "scattergl": [
           {
            "marker": {
             "colorbar": {
              "outlinewidth": 0,
              "ticks": ""
             }
            },
            "type": "scattergl"
           }
          ],
          "scattermapbox": [
           {
            "marker": {
             "colorbar": {
              "outlinewidth": 0,
              "ticks": ""
             }
            },
            "type": "scattermapbox"
           }
          ],
          "scatterpolar": [
           {
            "marker": {
             "colorbar": {
              "outlinewidth": 0,
              "ticks": ""
             }
            },
            "type": "scatterpolar"
           }
          ],
          "scatterpolargl": [
           {
            "marker": {
             "colorbar": {
              "outlinewidth": 0,
              "ticks": ""
             }
            },
            "type": "scatterpolargl"
           }
          ],
          "scatterternary": [
           {
            "marker": {
             "colorbar": {
              "outlinewidth": 0,
              "ticks": ""
             }
            },
            "type": "scatterternary"
           }
          ],
          "surface": [
           {
            "colorbar": {
             "outlinewidth": 0,
             "ticks": ""
            },
            "colorscale": [
             [
              0,
              "#0d0887"
             ],
             [
              0.1111111111111111,
              "#46039f"
             ],
             [
              0.2222222222222222,
              "#7201a8"
             ],
             [
              0.3333333333333333,
              "#9c179e"
             ],
             [
              0.4444444444444444,
              "#bd3786"
             ],
             [
              0.5555555555555556,
              "#d8576b"
             ],
             [
              0.6666666666666666,
              "#ed7953"
             ],
             [
              0.7777777777777778,
              "#fb9f3a"
             ],
             [
              0.8888888888888888,
              "#fdca26"
             ],
             [
              1,
              "#f0f921"
             ]
            ],
            "type": "surface"
           }
          ],
          "table": [
           {
            "cells": {
             "fill": {
              "color": "#EBF0F8"
             },
             "line": {
              "color": "white"
             }
            },
            "header": {
             "fill": {
              "color": "#C8D4E3"
             },
             "line": {
              "color": "white"
             }
            },
            "type": "table"
           }
          ]
         },
         "layout": {
          "annotationdefaults": {
           "arrowcolor": "#2a3f5f",
           "arrowhead": 0,
           "arrowwidth": 1
          },
          "autotypenumbers": "strict",
          "coloraxis": {
           "colorbar": {
            "outlinewidth": 0,
            "ticks": ""
           }
          },
          "colorscale": {
           "diverging": [
            [
             0,
             "#8e0152"
            ],
            [
             0.1,
             "#c51b7d"
            ],
            [
             0.2,
             "#de77ae"
            ],
            [
             0.3,
             "#f1b6da"
            ],
            [
             0.4,
             "#fde0ef"
            ],
            [
             0.5,
             "#f7f7f7"
            ],
            [
             0.6,
             "#e6f5d0"
            ],
            [
             0.7,
             "#b8e186"
            ],
            [
             0.8,
             "#7fbc41"
            ],
            [
             0.9,
             "#4d9221"
            ],
            [
             1,
             "#276419"
            ]
           ],
           "sequential": [
            [
             0,
             "#0d0887"
            ],
            [
             0.1111111111111111,
             "#46039f"
            ],
            [
             0.2222222222222222,
             "#7201a8"
            ],
            [
             0.3333333333333333,
             "#9c179e"
            ],
            [
             0.4444444444444444,
             "#bd3786"
            ],
            [
             0.5555555555555556,
             "#d8576b"
            ],
            [
             0.6666666666666666,
             "#ed7953"
            ],
            [
             0.7777777777777778,
             "#fb9f3a"
            ],
            [
             0.8888888888888888,
             "#fdca26"
            ],
            [
             1,
             "#f0f921"
            ]
           ],
           "sequentialminus": [
            [
             0,
             "#0d0887"
            ],
            [
             0.1111111111111111,
             "#46039f"
            ],
            [
             0.2222222222222222,
             "#7201a8"
            ],
            [
             0.3333333333333333,
             "#9c179e"
            ],
            [
             0.4444444444444444,
             "#bd3786"
            ],
            [
             0.5555555555555556,
             "#d8576b"
            ],
            [
             0.6666666666666666,
             "#ed7953"
            ],
            [
             0.7777777777777778,
             "#fb9f3a"
            ],
            [
             0.8888888888888888,
             "#fdca26"
            ],
            [
             1,
             "#f0f921"
            ]
           ]
          },
          "colorway": [
           "#636efa",
           "#EF553B",
           "#00cc96",
           "#ab63fa",
           "#FFA15A",
           "#19d3f3",
           "#FF6692",
           "#B6E880",
           "#FF97FF",
           "#FECB52"
          ],
          "font": {
           "color": "#2a3f5f"
          },
          "geo": {
           "bgcolor": "white",
           "lakecolor": "white",
           "landcolor": "#E5ECF6",
           "showlakes": true,
           "showland": true,
           "subunitcolor": "white"
          },
          "hoverlabel": {
           "align": "left"
          },
          "hovermode": "closest",
          "mapbox": {
           "style": "light"
          },
          "paper_bgcolor": "white",
          "plot_bgcolor": "#E5ECF6",
          "polar": {
           "angularaxis": {
            "gridcolor": "white",
            "linecolor": "white",
            "ticks": ""
           },
           "bgcolor": "#E5ECF6",
           "radialaxis": {
            "gridcolor": "white",
            "linecolor": "white",
            "ticks": ""
           }
          },
          "scene": {
           "xaxis": {
            "backgroundcolor": "#E5ECF6",
            "gridcolor": "white",
            "gridwidth": 2,
            "linecolor": "white",
            "showbackground": true,
            "ticks": "",
            "zerolinecolor": "white"
           },
           "yaxis": {
            "backgroundcolor": "#E5ECF6",
            "gridcolor": "white",
            "gridwidth": 2,
            "linecolor": "white",
            "showbackground": true,
            "ticks": "",
            "zerolinecolor": "white"
           },
           "zaxis": {
            "backgroundcolor": "#E5ECF6",
            "gridcolor": "white",
            "gridwidth": 2,
            "linecolor": "white",
            "showbackground": true,
            "ticks": "",
            "zerolinecolor": "white"
           }
          },
          "shapedefaults": {
           "line": {
            "color": "#2a3f5f"
           }
          },
          "ternary": {
           "aaxis": {
            "gridcolor": "white",
            "linecolor": "white",
            "ticks": ""
           },
           "baxis": {
            "gridcolor": "white",
            "linecolor": "white",
            "ticks": ""
           },
           "bgcolor": "#E5ECF6",
           "caxis": {
            "gridcolor": "white",
            "linecolor": "white",
            "ticks": ""
           }
          },
          "title": {
           "x": 0.05
          },
          "xaxis": {
           "automargin": true,
           "gridcolor": "white",
           "linecolor": "white",
           "ticks": "",
           "title": {
            "standoff": 15
           },
           "zerolinecolor": "white",
           "zerolinewidth": 2
          },
          "yaxis": {
           "automargin": true,
           "gridcolor": "white",
           "linecolor": "white",
           "ticks": "",
           "title": {
            "standoff": 15
           },
           "zerolinecolor": "white",
           "zerolinewidth": 2
          }
         }
        },
        "title": {
         "text": "percentage of each michelin award, by presence of amenities"
        },
        "xaxis": {
         "anchor": "y",
         "autorange": true,
         "domain": [
          0,
          1
         ],
         "range": [
          0,
          1.0526315789473686
         ],
         "title": {
          "text": "awards"
         },
         "type": "linear"
        },
        "yaxis": {
         "anchor": "x",
         "autorange": true,
         "domain": [
          0,
          1
         ],
         "range": [
          -0.5,
          13.5
         ],
         "title": {
          "text": "amenities"
         },
         "type": "category"
        }
       }
      },
      "image/png": "[encoded data removed]",
      "text/html": [
       "<div>                            <div id=\"a03eb28d-c831-4b89-892f-681d03957279\" class=\"plotly-graph-div\" style=\"height:525px; width:100%;\"></div>            <script type=\"text/javascript\">                require([\"plotly\"], function(Plotly) {                    window.PLOTLYENV=window.PLOTLYENV || {};                                    if (document.getElementById(\"a03eb28d-c831-4b89-892f-681d03957279\")) {                    Plotly.newPlot(                        \"a03eb28d-c831-4b89-892f-681d03957279\",                        [{\"alignmentgroup\":\"True\",\"hovertemplate\":\"Award=Selected Restaurants\\u003cbr\\u003evalue=%{x}\\u003cbr\\u003eindex=%{y}\\u003cextra\\u003e\\u003c\\u002fextra\\u003e\",\"legendgroup\":\"Selected Restaurants\",\"marker\":{\"color\":\"#636efa\",\"pattern\":{\"shape\":\"\"}},\"name\":\"Selected Restaurants\",\"offsetgroup\":\"Selected Restaurants\",\"orientation\":\"h\",\"showlegend\":true,\"textposition\":\"auto\",\"x\":[0.36909323116219667,0.7341601509840927,0.6755154639175258,0.6111691022964509,0.6686438122046848,0.6749891445940078,0.6946812829882257,0.7196391394864677,0.7417802726543705,0.6643321660830416,0.6086956521739131,0.657563025210084,0.5649193548387097,0.27692307692307694],\"xaxis\":\"x\",\"y\":[\"cashonly\",\"terrace\",\"average\",\"counter\",\"ac\",\"parking\",\"wheelchair\",\"view\",\"garden\",\"vegetarian\",\"sake\",\"valet\",\"wine\",\"noshoes\"],\"yaxis\":\"y\",\"type\":\"bar\"},{\"alignmentgroup\":\"True\",\"hovertemplate\":\"Award=Bib Gourmand\\u003cbr\\u003evalue=%{x}\\u003cbr\\u003eindex=%{y}\\u003cextra\\u003e\\u003c\\u002fextra\\u003e\",\"legendgroup\":\"Bib Gourmand\",\"marker\":{\"color\":\"#EF553B\",\"pattern\":{\"shape\":\"\"}},\"name\":\"Bib Gourmand\",\"offsetgroup\":\"Bib Gourmand\",\"orientation\":\"h\",\"showlegend\":true,\"textposition\":\"auto\",\"x\":[0.598978288633461,0.1942572121865732,0.2086340206185567,0.20511482254697286,0.19272142354478738,0.17585757707338254,0.15062931384490458,0.11034004163775156,0.09863672814755413,0.15307653826913456,0.10144927536231885,0.08823529411764706,0.08064516129032258,0.18461538461538463],\"xaxis\":\"x\",\"y\":[\"cashonly\",\"terrace\",\"average\",\"counter\",\"ac\",\"parking\",\"wheelchair\",\"view\",\"garden\",\"vegetarian\",\"sake\",\"valet\",\"wine\",\"noshoes\"],\"yaxis\":\"y\",\"type\":\"bar\"},{\"alignmentgroup\":\"True\",\"hovertemplate\":\"Award=1 Star\\u003cbr\\u003evalue=%{x}\\u003cbr\\u003eindex=%{y}\\u003cextra\\u003e\\u003c\\u002fextra\\u003e\",\"legendgroup\":\"1 Star\",\"marker\":{\"color\":\"#00cc96\",\"pattern\":{\"shape\":\"\"}},\"name\":\"1 Star\",\"offsetgroup\":\"1 Star\",\"orientation\":\"h\",\"showlegend\":true,\"textposition\":\"auto\",\"x\":[0.02681992337164751,0.05203558910757616,0.07474226804123711,0.1289144050104384,0.08253744847692772,0.08858011289622232,0.0876979293544458,0.0936849410131853,0.07778668805132317,0.09854927463731866,0.178743961352657,0.12394957983193278,0.16733870967741934,0.3076923076923077],\"xaxis\":\"x\",\"y\":[\"cashonly\",\"terrace\",\"average\",\"counter\",\"ac\",\"parking\",\"wheelchair\",\"view\",\"garden\",\"vegetarian\",\"sake\",\"valet\",\"wine\",\"noshoes\"],\"yaxis\":\"y\",\"type\":\"bar\"},{\"alignmentgroup\":\"True\",\"hovertemplate\":\"Award=2 Stars\\u003cbr\\u003evalue=%{x}\\u003cbr\\u003eindex=%{y}\\u003cextra\\u003e\\u003c\\u002fextra\\u003e\",\"legendgroup\":\"2 Stars\",\"marker\":{\"color\":\"#ab63fa\",\"pattern\":{\"shape\":\"\"}},\"name\":\"2 Stars\",\"offsetgroup\":\"2 Stars\",\"orientation\":\"h\",\"showlegend\":true,\"textposition\":\"auto\",\"x\":[0.0038314176245210726,0.016311674305742787,0.03176546391752577,0.04540709812108559,0.04242485171408465,0.045809813287016936,0.05034510759236703,0.05968077723802915,0.06094627105052125,0.062031015507753876,0.0821256038647343,0.09453781512605042,0.13790322580645162,0.15384615384615385],\"xaxis\":\"x\",\"y\":[\"cashonly\",\"terrace\",\"average\",\"counter\",\"ac\",\"parking\",\"wheelchair\",\"view\",\"garden\",\"vegetarian\",\"sake\",\"valet\",\"wine\",\"noshoes\"],\"yaxis\":\"y\",\"type\":\"bar\"},{\"alignmentgroup\":\"True\",\"hovertemplate\":\"Award=3 Stars\\u003cbr\\u003evalue=%{x}\\u003cbr\\u003eindex=%{y}\\u003cextra\\u003e\\u003c\\u002fextra\\u003e\",\"legendgroup\":\"3 Stars\",\"marker\":{\"color\":\"#FFA15A\",\"pattern\":{\"shape\":\"\"}},\"name\":\"3 Stars\",\"offsetgroup\":\"3 Stars\",\"orientation\":\"h\",\"showlegend\":true,\"textposition\":\"auto\",\"x\":[0.001277139208173691,0.0032353734160150984,0.009342783505154639,0.009394572025052192,0.013672464059515431,0.014763352149370386,0.01664636622005684,0.016655100624566273,0.020850040096230954,0.022011005502751375,0.028985507246376812,0.03571428571428571,0.049193548387096775,0.07692307692307693],\"xaxis\":\"x\",\"y\":[\"cashonly\",\"terrace\",\"average\",\"counter\",\"ac\",\"parking\",\"wheelchair\",\"view\",\"garden\",\"vegetarian\",\"sake\",\"valet\",\"wine\",\"noshoes\"],\"yaxis\":\"y\",\"type\":\"bar\"}],                        {\"template\":{\"data\":{\"histogram2dcontour\":[{\"type\":\"histogram2dcontour\",\"colorbar\":{\"outlinewidth\":0,\"ticks\":\"\"},\"colorscale\":[[0.0,\"#0d0887\"],[0.1111111111111111,\"#46039f\"],[0.2222222222222222,\"#7201a8\"],[0.3333333333333333,\"#9c179e\"],[0.4444444444444444,\"#bd3786\"],[0.5555555555555556,\"#d8576b\"],[0.6666666666666666,\"#ed7953\"],[0.7777777777777778,\"#fb9f3a\"],[0.8888888888888888,\"#fdca26\"],[1.0,\"#f0f921\"]]}],\"choropleth\":[{\"type\":\"choropleth\",\"colorbar\":{\"outlinewidth\":0,\"ticks\":\"\"}}],\"histogram2d\":[{\"type\":\"histogram2d\",\"colorbar\":{\"outlinewidth\":0,\"ticks\":\"\"},\"colorscale\":[[0.0,\"#0d0887\"],[0.1111111111111111,\"#46039f\"],[0.2222222222222222,\"#7201a8\"],[0.3333333333333333,\"#9c179e\"],[0.4444444444444444,\"#bd3786\"],[0.5555555555555556,\"#d8576b\"],[0.6666666666666666,\"#ed7953\"],[0.7777777777777778,\"#fb9f3a\"],[0.8888888888888888,\"#fdca26\"],[1.0,\"#f0f921\"]]}],\"heatmap\":[{\"type\":\"heatmap\",\"colorbar\":{\"outlinewidth\":0,\"ticks\":\"\"},\"colorscale\":[[0.0,\"#0d0887\"],[0.1111111111111111,\"#46039f\"],[0.2222222222222222,\"#7201a8\"],[0.3333333333333333,\"#9c179e\"],[0.4444444444444444,\"#bd3786\"],[0.5555555555555556,\"#d8576b\"],[0.6666666666666666,\"#ed7953\"],[0.7777777777777778,\"#fb9f3a\"],[0.8888888888888888,\"#fdca26\"],[1.0,\"#f0f921\"]]}],\"heatmapgl\":[{\"type\":\"heatmapgl\",\"colorbar\":{\"outlinewidth\":0,\"ticks\":\"\"},\"colorscale\":[[0.0,\"#0d0887\"],[0.1111111111111111,\"#46039f\"],[0.2222222222222222,\"#7201a8\"],[0.3333333333333333,\"#9c179e\"],[0.4444444444444444,\"#bd3786\"],[0.5555555555555556,\"#d8576b\"],[0.6666666666666666,\"#ed7953\"],[0.7777777777777778,\"#fb9f3a\"],[0.8888888888888888,\"#fdca26\"],[1.0,\"#f0f921\"]]}],\"contourcarpet\":[{\"type\":\"contourcarpet\",\"colorbar\":{\"outlinewidth\":0,\"ticks\":\"\"}}],\"contour\":[{\"type\":\"contour\",\"colorbar\":{\"outlinewidth\":0,\"ticks\":\"\"},\"colorscale\":[[0.0,\"#0d0887\"],[0.1111111111111111,\"#46039f\"],[0.2222222222222222,\"#7201a8\"],[0.3333333333333333,\"#9c179e\"],[0.4444444444444444,\"#bd3786\"],[0.5555555555555556,\"#d8576b\"],[0.6666666666666666,\"#ed7953\"],[0.7777777777777778,\"#fb9f3a\"],[0.8888888888888888,\"#fdca26\"],[1.0,\"#f0f921\"]]}],\"surface\":[{\"type\":\"surface\",\"colorbar\":{\"outlinewidth\":0,\"ticks\":\"\"},\"colorscale\":[[0.0,\"#0d0887\"],[0.1111111111111111,\"#46039f\"],[0.2222222222222222,\"#7201a8\"],[0.3333333333333333,\"#9c179e\"],[0.4444444444444444,\"#bd3786\"],[0.5555555555555556,\"#d8576b\"],[0.6666666666666666,\"#ed7953\"],[0.7777777777777778,\"#fb9f3a\"],[0.8888888888888888,\"#fdca26\"],[1.0,\"#f0f921\"]]}],\"mesh3d\":[{\"type\":\"mesh3d\",\"colorbar\":{\"outlinewidth\":0,\"ticks\":\"\"}}],\"scatter\":[{\"fillpattern\":{\"fillmode\":\"overlay\",\"size\":10,\"solidity\":0.2},\"type\":\"scatter\"}],\"parcoords\":[{\"type\":\"parcoords\",\"line\":{\"colorbar\":{\"outlinewidth\":0,\"ticks\":\"\"}}}],\"scatterpolargl\":[{\"type\":\"scatterpolargl\",\"marker\":{\"colorbar\":{\"outlinewidth\":0,\"ticks\":\"\"}}}],\"bar\":[{\"error_x\":{\"color\":\"#2a3f5f\"},\"error_y\":{\"color\":\"#2a3f5f\"},\"marker\":{\"line\":{\"color\":\"#E5ECF6\",\"width\":0.5},\"pattern\":{\"fillmode\":\"overlay\",\"size\":10,\"solidity\":0.2}},\"type\":\"bar\"}],\"scattergeo\":[{\"type\":\"scattergeo\",\"marker\":{\"colorbar\":{\"outlinewidth\":0,\"ticks\":\"\"}}}],\"scatterpolar\":[{\"type\":\"scatterpolar\",\"marker\":{\"colorbar\":{\"outlinewidth\":0,\"ticks\":\"\"}}}],\"histogram\":[{\"marker\":{\"pattern\":{\"fillmode\":\"overlay\",\"size\":10,\"solidity\":0.2}},\"type\":\"histogram\"}],\"scattergl\":[{\"type\":\"scattergl\",\"marker\":{\"colorbar\":{\"outlinewidth\":0,\"ticks\":\"\"}}}],\"scatter3d\":[{\"type\":\"scatter3d\",\"line\":{\"colorbar\":{\"outlinewidth\":0,\"ticks\":\"\"}},\"marker\":{\"colorbar\":{\"outlinewidth\":0,\"ticks\":\"\"}}}],\"scattermapbox\":[{\"type\":\"scattermapbox\",\"marker\":{\"colorbar\":{\"outlinewidth\":0,\"ticks\":\"\"}}}],\"scatterternary\":[{\"type\":\"scatterternary\",\"marker\":{\"colorbar\":{\"outlinewidth\":0,\"ticks\":\"\"}}}],\"scattercarpet\":[{\"type\":\"scattercarpet\",\"marker\":{\"colorbar\":{\"outlinewidth\":0,\"ticks\":\"\"}}}],\"carpet\":[{\"aaxis\":{\"endlinecolor\":\"#2a3f5f\",\"gridcolor\":\"white\",\"linecolor\":\"white\",\"minorgridcolor\":\"white\",\"startlinecolor\":\"#2a3f5f\"},\"baxis\":{\"endlinecolor\":\"#2a3f5f\",\"gridcolor\":\"white\",\"linecolor\":\"white\",\"minorgridcolor\":\"white\",\"startlinecolor\":\"#2a3f5f\"},\"type\":\"carpet\"}],\"table\":[{\"cells\":{\"fill\":{\"color\":\"#EBF0F8\"},\"line\":{\"color\":\"white\"}},\"header\":{\"fill\":{\"color\":\"#C8D4E3\"},\"line\":{\"color\":\"white\"}},\"type\":\"table\"}],\"barpolar\":[{\"marker\":{\"line\":{\"color\":\"#E5ECF6\",\"width\":0.5},\"pattern\":{\"fillmode\":\"overlay\",\"size\":10,\"solidity\":0.2}},\"type\":\"barpolar\"}],\"pie\":[{\"automargin\":true,\"type\":\"pie\"}]},\"layout\":{\"autotypenumbers\":\"strict\",\"colorway\":[\"#636efa\",\"#EF553B\",\"#00cc96\",\"#ab63fa\",\"#FFA15A\",\"#19d3f3\",\"#FF6692\",\"#B6E880\",\"#FF97FF\",\"#FECB52\"],\"font\":{\"color\":\"#2a3f5f\"},\"hovermode\":\"closest\",\"hoverlabel\":{\"align\":\"left\"},\"paper_bgcolor\":\"white\",\"plot_bgcolor\":\"#E5ECF6\",\"polar\":{\"bgcolor\":\"#E5ECF6\",\"angularaxis\":{\"gridcolor\":\"white\",\"linecolor\":\"white\",\"ticks\":\"\"},\"radialaxis\":{\"gridcolor\":\"white\",\"linecolor\":\"white\",\"ticks\":\"\"}},\"ternary\":{\"bgcolor\":\"#E5ECF6\",\"aaxis\":{\"gridcolor\":\"white\",\"linecolor\":\"white\",\"ticks\":\"\"},\"baxis\":{\"gridcolor\":\"white\",\"linecolor\":\"white\",\"ticks\":\"\"},\"caxis\":{\"gridcolor\":\"white\",\"linecolor\":\"white\",\"ticks\":\"\"}},\"coloraxis\":{\"colorbar\":{\"outlinewidth\":0,\"ticks\":\"\"}},\"colorscale\":{\"sequential\":[[0.0,\"#0d0887\"],[0.1111111111111111,\"#46039f\"],[0.2222222222222222,\"#7201a8\"],[0.3333333333333333,\"#9c179e\"],[0.4444444444444444,\"#bd3786\"],[0.5555555555555556,\"#d8576b\"],[0.6666666666666666,\"#ed7953\"],[0.7777777777777778,\"#fb9f3a\"],[0.8888888888888888,\"#fdca26\"],[1.0,\"#f0f921\"]],\"sequentialminus\":[[0.0,\"#0d0887\"],[0.1111111111111111,\"#46039f\"],[0.2222222222222222,\"#7201a8\"],[0.3333333333333333,\"#9c179e\"],[0.4444444444444444,\"#bd3786\"],[0.5555555555555556,\"#d8576b\"],[0.6666666666666666,\"#ed7953\"],[0.7777777777777778,\"#fb9f3a\"],[0.8888888888888888,\"#fdca26\"],[1.0,\"#f0f921\"]],\"diverging\":[[0,\"#8e0152\"],[0.1,\"#c51b7d\"],[0.2,\"#de77ae\"],[0.3,\"#f1b6da\"],[0.4,\"#fde0ef\"],[0.5,\"#f7f7f7\"],[0.6,\"#e6f5d0\"],[0.7,\"#b8e186\"],[0.8,\"#7fbc41\"],[0.9,\"#4d9221\"],[1,\"#276419\"]]},\"xaxis\":{\"gridcolor\":\"white\",\"linecolor\":\"white\",\"ticks\":\"\",\"title\":{\"standoff\":15},\"zerolinecolor\":\"white\",\"automargin\":true,\"zerolinewidth\":2},\"yaxis\":{\"gridcolor\":\"white\",\"linecolor\":\"white\",\"ticks\":\"\",\"title\":{\"standoff\":15},\"zerolinecolor\":\"white\",\"automargin\":true,\"zerolinewidth\":2},\"scene\":{\"xaxis\":{\"backgroundcolor\":\"#E5ECF6\",\"gridcolor\":\"white\",\"linecolor\":\"white\",\"showbackground\":true,\"ticks\":\"\",\"zerolinecolor\":\"white\",\"gridwidth\":2},\"yaxis\":{\"backgroundcolor\":\"#E5ECF6\",\"gridcolor\":\"white\",\"linecolor\":\"white\",\"showbackground\":true,\"ticks\":\"\",\"zerolinecolor\":\"white\",\"gridwidth\":2},\"zaxis\":{\"backgroundcolor\":\"#E5ECF6\",\"gridcolor\":\"white\",\"linecolor\":\"white\",\"showbackground\":true,\"ticks\":\"\",\"zerolinecolor\":\"white\",\"gridwidth\":2}},\"shapedefaults\":{\"line\":{\"color\":\"#2a3f5f\"}},\"annotationdefaults\":{\"arrowcolor\":\"#2a3f5f\",\"arrowhead\":0,\"arrowwidth\":1},\"geo\":{\"bgcolor\":\"white\",\"landcolor\":\"#E5ECF6\",\"subunitcolor\":\"white\",\"showland\":true,\"showlakes\":true,\"lakecolor\":\"white\"},\"title\":{\"x\":0.05},\"mapbox\":{\"style\":\"light\"}}},\"xaxis\":{\"anchor\":\"y\",\"domain\":[0.0,1.0],\"title\":{\"text\":\"awards\"}},\"yaxis\":{\"anchor\":\"x\",\"domain\":[0.0,1.0],\"title\":{\"text\":\"amenities\"}},\"legend\":{\"title\":{\"text\":\"Award\"},\"tracegroupgap\":0,\"visible\":false},\"margin\":{\"t\":60},\"barmode\":\"relative\",\"title\":{\"text\":\"percentage of each michelin award, by presence of amenities\"}},                        {\"responsive\": true}                    ).then(function(){\n",
       "                            \n",
       "var gd = document.getElementById('a03eb28d-c831-4b89-892f-681d03957279');\n",
       "var x = new MutationObserver(function (mutations, observer) {{\n",
       "        var display = window.getComputedStyle(gd).display;\n",
       "        if (!display || display === 'none') {{\n",
       "            console.log([gd, 'removed!']);\n",
       "            Plotly.purge(gd);\n",
       "            observer.disconnect();\n",
       "        }}\n",
       "}});\n",
       "\n",
       "// Listen for the removal of the full notebook cells\n",
       "var notebookContainer = gd.closest('#notebook-container');\n",
       "if (notebookContainer) {{\n",
       "    x.observe(notebookContainer, {childList: true});\n",
       "}}\n",
       "\n",
       "// Listen for the clearing of the current output cell\n",
       "var outputEl = gd.closest('.output');\n",
       "if (outputEl) {{\n",
       "    x.observe(outputEl, {childList: true});\n",
       "}}\n",
       "\n",
       "                        })                };                });            </script>        </div>"
      ]
     },
     "metadata": {},
     "output_type": "display_data"
    }
   ],
   "source": [
    "fig_H"
   ]
  },
  {
   "cell_type": "code",
   "execution_count": 28,
   "id": "214ffc70-f37f-4f6e-b170-3f71b0676a8a",
   "metadata": {},
   "outputs": [
    {
     "name": "stdout",
     "output_type": "stream",
     "text": [
      "15520\n"
     ]
    }
   ],
   "source": [
    "print(len(michelin))"
   ]
  },
  {
   "cell_type": "code",
   "execution_count": 29,
   "id": "6eb0d254-74ab-4584-af05-99ee6987e03e",
   "metadata": {},
   "outputs": [
    {
     "data": {
      "text/plain": [
       "Index(['Name', 'Address', 'Location', 'Price', 'Cuisine', 'Longitude',\n",
       "       'Latitude', 'Url', 'Award', 'GreenStar', 'FacilitiesAndServices',\n",
       "       'Description', 'ac', 'wheelchair', 'parking', 'garden', 'wine',\n",
       "       'terrace', 'valet', 'vegetarian', 'counter', 'view', 'noshoes',\n",
       "       'cashonly', 'sake', 'Cuisine1', 'Cuisine2', 'bib_gourmand',\n",
       "       'description_sentiment', 'Award_ordinal', 'proportion_amenities',\n",
       "       'amenities_sum', 'amenities_cuts', 'sentiment_cuts', 'Country', 'City',\n",
       "       'Alpha_3'],\n",
       "      dtype='object')"
      ]
     },
     "execution_count": 29,
     "metadata": {},
     "output_type": "execute_result"
    }
   ],
   "source": [
    "michelin.columns"
   ]
  },
  {
   "cell_type": "code",
   "execution_count": null,
   "id": "5d22e7b1-a661-4185-9220-d4428ba80a90",
   "metadata": {},
   "outputs": [],
   "source": [
    "-counter    -\n",
    "-wheelchair -\n",
    "-vegetarian -\n",
    "-wine       -\n",
    "-view       -\n",
    "-garden     -\n",
    "-valet      -\n",
    "-cashonly   -\n",
    "-parking    -\n",
    "-ac         -\n",
    "-garden     -\n",
    "-noshoes    -\n",
    "-sake       -\n",
    "-terrace    -"
   ]
  },
  {
   "cell_type": "code",
   "execution_count": null,
   "id": "efa9b5d5-5c36-4ed6-8c7b-424647457d9f",
   "metadata": {},
   "outputs": [],
   "source": []
  },
  {
   "cell_type": "code",
   "execution_count": null,
   "id": "72fbc906-379f-4961-ab25-450b6a88b437",
   "metadata": {},
   "outputs": [],
   "source": []
  },
  {
   "cell_type": "code",
   "execution_count": null,
   "id": "240b736f-aaec-45c8-98eb-f7dff0a0ea47",
   "metadata": {},
   "outputs": [],
   "source": [
    "# path = \"https://raw.githubusercontent.com/ua-chjb/michelin_stars/refs/heads/main/data/michelin_by_Jerry_Ng.csv\"\n",
    "\n",
    "# codecs = ['utf8','ascii','big5','big5hkscs','cp037','cp273','cp424','cp437','cp500','cp720','cp737','cp775','cp850','cp852','cp855',\n",
    "#           'cp856','cp857','cp858','cp860','cp861','cp862','cp863','cp864','cp865','cp866','cp869','cp874','cp875','cp932','cp949',\n",
    "#           'cp950','cp1006','cp1026','cp1125','cp1140','cp1250','cp1251','cp1252','cp1253','cp1254','cp1255','cp1256','cp1257','cp1258',\n",
    "#           'euc_jp','euc_jis_2004','euc_jisx0213','euc_kr','gb2312','gbk','gb18030','hz','iso2022_jp','iso2022_jp_1','iso2022_jp_2',\n",
    "#           'iso2022_jp_2004','iso2022_jp_3','iso2022_jp_ext','iso2022_kr','latin_1','iso8859_2','iso8859_3','iso8859_4','iso8859_5','iso8859_6',\n",
    "#           'iso8859_7','iso8859_8','iso8859_9','iso8859_10','iso8859_11','iso8859_13','iso8859_14','iso8859_15','iso8859_16','johab','koi8_r','koi8_t',\n",
    "#           'koi8_u','kz1048','mac_cyrillic','mac_greek','mac_iceland','mac_latin2','mac_roman','mac_turkish','ptcp154','shift_jis','shift_jis_2004',\n",
    "#           'shift_jisx0213','utf_32','utf_32_be','utf_32_le','utf_16','utf_16_be','utf_16_le','utf_7','utf_8','utf_8_sig']\n",
    "\n",
    "# seps = [\";\", \",\", \" \", \"\\t\", \"\\r\", \"\\s\"]\n",
    "\n",
    "# def open_data(path):\n",
    "#     for encoding in codecs:\n",
    "#         for sep in seps:\n",
    "#             try:\n",
    "#                 with open(path, \"r\", encoding=\"utf8\") as f:\n",
    "#                     file = pd.read_csv(f)\n",
    "#                     print(file.head())\n",
    "#                     print(file.info())\n",
    "#                 return file\n",
    "#             except:\n",
    "#                 print(\"cannot read with type\", encoding, \"and sep\", sep)\n",
    "\n",
    "# michelin = open_data(path)"
   ]
  },
  {
   "cell_type": "code",
   "execution_count": null,
   "id": "61cff772-1c86-428d-b185-0b26e78ea716",
   "metadata": {},
   "outputs": [],
   "source": [
    "import warnings\n",
    "warnings.filterwarnings(\"ignore\")\n",
    "\n",
    "def summary_dataframe_small(df):\n",
    "\n",
    "\treturn pd.DataFrame({'features': df.columns,'dtypes': [df.dtypes[i] for i in range(len(df.columns))],\n",
    "\t'nulls':[df[df.columns[i]].isnull().sum() for i in range(len(df.columns))],'nonnuls / 1.0': (df.shape[0] - \n",
    "\tdf.isnull().sum().values) / df.shape[0],'uniques': [df[j].nunique() for j in df.columns]})\n",
    "\n",
    "summary_dataframe_small(michelin)"
   ]
  },
  {
   "cell_type": "code",
   "execution_count": null,
   "id": "3af38f88-0f8e-4491-9db5-0dbf1619cf9e",
   "metadata": {},
   "outputs": [],
   "source": [
    "michelin = michelin.drop([\"PhoneNumber\", \"WebsiteUrl\"], axis=1)"
   ]
  },
  {
   "cell_type": "code",
   "execution_count": null,
   "id": "c2be5711-fb40-4fea-8658-d4ef21e5748a",
   "metadata": {},
   "outputs": [],
   "source": [
    "# add in corr with dep?\n",
    "\n",
    "def summary_dataframe_large(df):\n",
    "    \n",
    "    summary = pd.DataFrame({\n",
    "        \"feature\": df.columns,\n",
    "        \"dtype\" : [str(df[col].dtype) for col in df.columns],\n",
    "        \"nulls\": [f\"{df[col].isnull().sum()}\" for col in df.columns],\n",
    "        \"nonnulls%\": [f\"{round(((1 - df[col].isnull().sum() / len(df)) * 100), 2)}%\" for col in df.columns],\n",
    "        \"STATS\": [\"|\" for col in df.columns],\n",
    "        \"min\": [df[col].min().round(2) if any(t in str(df[col].dtype) for t in (\"float\", \"int\", \"time\")) else \" \" for col in df.columns],\n",
    "        \"50%\": [df[col].median().round(2) if any(t in str(df[col].dtype) for t in (\"float\", \"int\", \"time\")) else \" \"\n",
    "                for col in df.columns],\n",
    "        \"max\": [df[col].max().round(2) if any(t in str(df[col].dtype) for t in (\"float\", \"int\", \"time\")) else \" \" for col in df.columns],\n",
    "        \"stdev\": [df[col].std().round(2) if any(t in str(df[col].dtype) for t in (\"float\", \"int\", \"time\")) else \" \" for col in df.columns],\n",
    "        \"mean\": [df[col].mean().round(2) if any(t in str(df[col].dtype) for t in (\"float\", \"int\", \"time\")) else \" \" for col in df.columns],\n",
    "        # \"skew\": [\"left\" if df[col].median() > df[col].mean() else \"right\" if df[col].median() < df[col].mean() else \"equal\" if df[col].median()==df[col].mean() if any(t in str(df[col].dtype) for t in (\"float\", \"int\", \"time\")) else \" \" for col in df.columns],\n",
    "        \"cat_mode\": [\" \" if any(t in str(df[col].dtype) for t in (\"float\", \"int\", \"time\")) else df[col].mode()[0] for col in df.columns],\n",
    "        \"COUNTS\": [\"|\" for col in df.columns],\n",
    "        \"nuniques\": [df[col].nunique() for col in df.columns],\n",
    "        \"vcs-\": [df[col].value_counts().reset_index()[\"count\"].min() for col in df.columns],\n",
    "        \"vcs+\": [df[col].value_counts().reset_index()[\"count\"].max() for col in df.columns],\n",
    "        \"RANDOM\": [\"|\" for col in df.columns],\n",
    "        \"row[random]\" :[df[col].iloc[np.random.randint(len(df))].round(2) if any(t in str(df[col].dtype) for t in (\"float\", \"int\", \"time\")) else df[col].iloc[np.random.randint(len(df))] for col in df.columns],\n",
    "    })\n",
    "\n",
    "    return summary\n",
    "    \n",
    "summary = summary_dataframe_large(michelin)\n",
    "summary"
   ]
  },
  {
   "cell_type": "code",
   "execution_count": null,
   "id": "4f164a71-cab5-4040-b624-32652385eb37",
   "metadata": {},
   "outputs": [],
   "source": [
    "# conditional boolean columns from single string description\n",
    "\n",
    "michelin[\"ac\"] = [1 if \"Air\" in str(j) else 0 for j in michelin[\"FacilitiesAndServices\"].values]\n",
    "\n",
    "michelin[\"wheelchair\"] = [1 if \"Wheelchair\" in str(j) else 0 for j in michelin[\"FacilitiesAndServices\"].values]\n",
    "\n",
    "michelin[\"parking\"] = [1 if \"Car\" in str(j) else 0 for j in michelin[\"FacilitiesAndServices\"].values]\n",
    "\n",
    "michelin[\"garden\"] = [1 if \"Garden\" in str(j) else 0 for j in michelin[\"FacilitiesAndServices\"].values]\n",
    "\n",
    "michelin[\"wine\"] = [1 if \"wine\" in str(j) else 0 for j in michelin[\"FacilitiesAndServices\"].values]\n",
    "\n",
    "michelin[\"terrace\"] = [1 if \"Terrace\" in str(j) else 0 for j in michelin[\"FacilitiesAndServices\"].values]\n",
    "\n",
    "michelin[\"valet\"] = [1 if \"Valet\" in str(j) else 0 for j in michelin[\"FacilitiesAndServices\"].values]\n",
    "\n",
    "michelin[\"vegetarian\"] = [1 if \"vegetarian\" in str(j) else 0 for j in michelin[\"FacilitiesAndServices\"].values]\n",
    "\n",
    "michelin[\"counter\"] = [1 if \"Counter\" in str(j) else 0 for j in michelin[\"FacilitiesAndServices\"].values]\n",
    "\n",
    "michelin[\"view\"] = [1 if \"view\" in str(j) else 0 for j in michelin[\"FacilitiesAndServices\"].values]\n",
    "\n",
    "michelin[\"noshoes\"] = [1 if \"Shoes\" in str(j) else 0 for j in michelin[\"FacilitiesAndServices\"].values]\n",
    "\n",
    "michelin[\"cashonly\"] = [1 if \"Cash\" in str(j) else 0 for j in michelin[\"FacilitiesAndServices\"].values]\n",
    "\n",
    "michelin[\"sake\"] = [1 if \"sake\" in str(j) else 0 for j in michelin[\"FacilitiesAndServices\"].values]"
   ]
  },
  {
   "cell_type": "code",
   "execution_count": null,
   "id": "7755a191-fb38-4d06-9335-f18b54798f87",
   "metadata": {},
   "outputs": [],
   "source": [
    "michelin[:3]"
   ]
  },
  {
   "cell_type": "code",
   "execution_count": null,
   "id": "f6d83790-3940-455e-b33a-6260de2a27a7",
   "metadata": {},
   "outputs": [],
   "source": [
    "# clean and split cuisine feature\n",
    "# # keep original combined feature\n",
    "\n",
    "cuis = [str(q).replace(\" \", \",\") for q in michelin[\"Cuisine\"]]\n",
    "cuis = [str(w).replace(\",,\", \",\") for w in cuis]\n",
    "cuis = [str(s).replace(\",\", \", \").lower() for s in cuis]\n",
    "michelin[\"Cuisine\"] = cuis\n",
    "michelin[\"Cuisine1\"] = [j.split(\", \")[0].lower() for j in michelin[\"Cuisine\"]]\n",
    "michelin[\"Cuisine2\"] = [j.split(\", \")[-1].lower() for j in michelin[\"Cuisine\"]]\n"
   ]
  },
  {
   "cell_type": "code",
   "execution_count": null,
   "id": "a28ee1b4-57e5-4900-8168-28f5338b6e75",
   "metadata": {},
   "outputs": [],
   "source": [
    "len(michelin[\"Name\"].unique())"
   ]
  },
  {
   "cell_type": "code",
   "execution_count": null,
   "id": "31cacfc3-670f-493d-a2ba-f7fbdd17de68",
   "metadata": {},
   "outputs": [],
   "source": [
    "# instances of string \"cuisine\" in text, rather than specific category\n",
    "cuis_repl = [j.replace(\"cuisine\", \"\") for j in michelin[\"Cuisine2\"]]\n",
    "michelin[\"Cuisine2\"] = cuis_repl"
   ]
  },
  {
   "cell_type": "code",
   "execution_count": null,
   "id": "77aa0db5-3479-4873-9b53-32b57dc198ec",
   "metadata": {},
   "outputs": [],
   "source": [
    "michelin[:3]"
   ]
  },
  {
   "cell_type": "code",
   "execution_count": null,
   "id": "1f10498e-b089-4172-9b27-99cdd1489c47",
   "metadata": {},
   "outputs": [],
   "source": [
    "import nltk\n",
    "from nltk.sentiment import SentimentIntensityAnalyzer\n",
    "nltk.download('movie_reviews')"
   ]
  },
  {
   "cell_type": "code",
   "execution_count": null,
   "id": "0cac3738-5f39-49e2-9ee2-d4aa1ec96794",
   "metadata": {},
   "outputs": [],
   "source": [
    "# continuous, numerical 1: sentiment of review\n",
    "\n",
    "def sentiment_analyzer(df, col):\n",
    "    \n",
    "    sia = SentimentIntensityAnalyzer()\n",
    "\n",
    "    scores = [sia.polarity_scores(str(text)) for text in df[str(col)]]\n",
    "\n",
    "    scores_comp = []\n",
    "\n",
    "    for score in range(len(scores)):\n",
    "        scores_comp.append(scores[score]['compound'])\n",
    "    \n",
    "    return scores_comp\n",
    "\n",
    "review_scores = sentiment_analyzer(michelin, \"Description\")\n",
    "michelin[\"description_sentiment\"] = review_scores"
   ]
  },
  {
   "cell_type": "code",
   "execution_count": null,
   "id": "1302427f-c816-4e7a-b8eb-0a6f674f101b",
   "metadata": {},
   "outputs": [],
   "source": [
    "michelin[\"Award\"].value_counts()"
   ]
  },
  {
   "cell_type": "code",
   "execution_count": null,
   "id": "c65484f0-1115-4bce-a9dc-587bf1aed4ae",
   "metadata": {},
   "outputs": [],
   "source": [
    "# ordinal, numerical 2 [dependent variable]: award.\n",
    "\n",
    "award_dict = {\n",
    "    \"Selected Restaurants\": 1,\n",
    "    \"Bib Gourmand\": 2,\n",
    "    \"1 Star\": 3,\n",
    "    \"2 Stars\": 4,\n",
    "    \"3 Stars\": 5\n",
    "}\n",
    "\n",
    "michelin[\"Award_ordinal\"] = michelin[\"Award\"].map(award_dict)"
   ]
  },
  {
   "cell_type": "code",
   "execution_count": null,
   "id": "2fde807c-ee96-4290-bd6d-b926bfc8b83e",
   "metadata": {},
   "outputs": [],
   "source": [
    "# set flag for \"bib gourmand\", as this is \"somewhat of\" a separate category\n",
    "\n",
    "michelin[\"bib_gourmand\"] = np.zeros(len(michelin))\n",
    "michelin[\"bib_gourmand\"][michelin[\"Award\"]==\"Bib Gourmand\"] = 1"
   ]
  },
  {
   "cell_type": "code",
   "execution_count": null,
   "id": "2f7d40c2-2d88-4c7f-bdf5-21d36334396f",
   "metadata": {},
   "outputs": [],
   "source": [
    "# continuous, numerical 3, proportion of amenities\n",
    "\n",
    "onehot_cols = [ \"ac\",\t\"wheelchair\", \"parking\", \"garden\",\t\"wine\",\t\"terrace\", \"valet\", \"vegetarian\", \"counter\", \"view\",\n",
    "           \"noshoes\", \"cashonly\", \"sake\"]\n",
    "\n",
    "michelin_onehot = michelin[onehot_cols]\n",
    "\n",
    "michelin_onehot = michelin[onehot_cols]\n",
    "michelin_onehot[\"sum\"] = michelin_onehot.sum(axis=1)\n",
    "michelin_onehot[\"proportion\"] = michelin_onehot[\"sum\"] / (len(michelin_onehot.columns)-1)\n",
    "michelin_onehot[:5]\n",
    "michelin[\"proportion_amenities\"] = michelin_onehot[\"proportion\"]"
   ]
  },
  {
   "cell_type": "code",
   "execution_count": null,
   "id": "afdd0451-7af0-40a8-bc9f-ef61cd7f044e",
   "metadata": {},
   "outputs": [],
   "source": [
    "michelin[\"Price\"].unique()"
   ]
  },
  {
   "cell_type": "code",
   "execution_count": null,
   "id": "d58e981b-e910-43ac-a769-b2cdc5b7c99f",
   "metadata": {},
   "outputs": [],
   "source": [
    "# found instance of MNAR nan, turned to 0 as there there is no indication of price but there does appear to be a \"home cooking\" vibe to the description.\n",
    "# entry is notable as it won the top award\n",
    "\n",
    "michelin[\"Price\"] = michelin[\"Price\"].replace(np.nan, \"\")"
   ]
  },
  {
   "cell_type": "code",
   "execution_count": null,
   "id": "f19413f2-5b45-4140-8ed2-e9033214933e",
   "metadata": {},
   "outputs": [],
   "source": [
    "michelin[\"Price\"].unique()"
   ]
  },
  {
   "cell_type": "code",
   "execution_count": null,
   "id": "09fb9caa-8bc5-4bfc-81bf-bdb0378979e4",
   "metadata": {},
   "outputs": [],
   "source": [
    "# ordinal, numerical 4\n",
    "\n",
    "lens = [len(str(l)) for l in michelin[\"Price\"].unique()]\n",
    "prices = michelin[\"Price\"].unique()\n",
    "price_dict = dict(zip(prices, lens))\n",
    "\n",
    "price_dict"
   ]
  },
  {
   "cell_type": "code",
   "execution_count": null,
   "id": "a61b05c7-9ab6-407b-93d7-b1bef37b8ba6",
   "metadata": {},
   "outputs": [],
   "source": [
    "# map price dictionary to price feature\n",
    "\n",
    "michelin[\"Price\"] = michelin[\"Price\"].map(price_dict)"
   ]
  },
  {
   "cell_type": "code",
   "execution_count": null,
   "id": "690a93bb-a4fd-4d49-9025-5673880cf711",
   "metadata": {},
   "outputs": [],
   "source": [
    "michelin[\"Price\"].unique()"
   ]
  },
  {
   "cell_type": "code",
   "execution_count": null,
   "id": "f9d8a394-3e11-4a2d-a469-3a86702cf540",
   "metadata": {},
   "outputs": [],
   "source": [
    "# amenities count feature\n",
    "\n",
    "michelin[\"amenities_sum\"] = (michelin[\"proportion_amenities\"] * 13).astype(int)\n",
    "\n",
    "# amenities cuts\n",
    "\n",
    "michelin[\"amenities_cuts\"] = pd.cut(michelin[\"amenities_sum\"], 10, labels=[\"\".join([\"buck_\", str(k)]) for k in range(10)])\n",
    "\n",
    "# sentiment cuts\n",
    "\n",
    "michelin[\"sentiment_cuts\"] = pd.cut(michelin[\"description_sentiment\"], 10, labels=[\"\".join([\"buck_\", str(k)]) for k in range(10)])"
   ]
  },
  {
   "cell_type": "code",
   "execution_count": null,
   "id": "5a457d51-2714-4eb1-9255-e0c111485377",
   "metadata": {},
   "outputs": [],
   "source": [
    "# \"MNAR\" 0s  in \"description sentiment\" feature, replace with mean of below columns\n",
    "\n",
    "fillnans_cols = [\"Price\", \"GreenStar\", \"ac\", \"wheelchair\", \"parking\", \"garden\", \"wine\", \"terrace\", \"valet\", \"vegetarian\", \"counter\", \"view\", \"noshoes\", \"cashonly\", \"sake\", \"Award_ordinal\", \"Cuisine1\", \"Cuisine2\"]\n",
    "michelin[\"description_sentiment\"] = michelin[\"description_sentiment\"].replace(0, np.nan)\n",
    "\n",
    "michelin[\"description_sentiment\"] = michelin.groupby(fillnans_cols)[\"description_sentiment\"].transform(lambda x: x.fillna(x.mean()))"
   ]
  },
  {
   "cell_type": "code",
   "execution_count": null,
   "id": "b35c9e71-0af0-4476-ab04-ff3e1851077d",
   "metadata": {},
   "outputs": [],
   "source": [
    "# take stock of all feauters\n",
    "\n",
    "michelin[:3]"
   ]
  },
  {
   "cell_type": "code",
   "execution_count": null,
   "id": "e987fbc1-71a5-458b-8bec-bc3777a9bf06",
   "metadata": {},
   "outputs": [],
   "source": [
    "def heatmap_allfeatures_pearson(df, height=800, colors=\"RdBu_r\"):\n",
    "\n",
    "    df = df.select_dtypes([\"number\"])\n",
    "    \n",
    "    corr = df.corr().round(2)\n",
    "    mask = np.zeros_like(df.corr(), dtype=bool)\n",
    "    mask[np.triu_indices_from(mask)] = True\n",
    "    corr = corr.mask(mask)\n",
    "    \n",
    "    g = px.imshow(corr, text_auto=True, color_continuous_scale=colors, zmin=-1, zmax=1)\n",
    "    \n",
    "    g.update_layout(\n",
    "    { \"template\": \"plotly_white\", \n",
    "     \"title\": \"heatmap, pearson correlation\",\n",
    "    \"xaxis\":{\"showgrid\": False,\n",
    "             \"zeroline\": False},\n",
    "    \"yaxis\": {\"showgrid\": False,\n",
    "             \"zeroline\": False},\n",
    "     \"height\": height,\n",
    "   }).update_traces(xgap=5,ygap=5)\n",
    "    \n",
    "    return g, corr\n",
    "\n",
    "fig, corr = heatmap_allfeatures_pearson(michelin, height=800, colors=px.colors.diverging.RdYlBu)\n",
    "fig"
   ]
  },
  {
   "cell_type": "code",
   "execution_count": null,
   "id": "9701a4cf-fd90-48a6-8f8e-0fdcc696d66d",
   "metadata": {},
   "outputs": [],
   "source": [
    "# clean \"location\" column\n",
    "michelin[\"City\"] = [j.split(\",\")[0] for j in michelin[\"Location\"]]\n",
    "michelin[\"Country\"] = [j.split(\",\")[-1] for j in michelin[\"Location\"]]"
   ]
  },
  {
   "cell_type": "code",
   "execution_count": null,
   "id": "330fd966-9929-422c-841d-9a6adccaf6c3",
   "metadata": {},
   "outputs": [],
   "source": [
    "# strip trailing spaces\n",
    "michelin[\"Country\"] = michelin[\"Country\"].str.strip()\n",
    "\n",
    "# after debugging, find countries with oddball names and replace with standards\n",
    "country_dict = {\n",
    "    \"China Mainland\": \"China\",\n",
    "    \"Czech Republic\": \"Czechia\",\n",
    "    \"Hong Kong SAR China\": \"Hong Kong\",\n",
    "    \"South Korea\": \"Korea, Republic of\",\n",
    "    \"Taiwan\": \"Taiwan, Province of China\",\n",
    "    \"USA\": \"United States\",\n",
    "    \"Vietnam\": \"Viet Nam\",\n",
    "    \"Abu Dhabi\": \"United Arab Emirates\",\n",
    "    \"Dubai\": \"United Arab Emirates\",\n",
    "    \"Macau\": \"Macao\",\n",
    "}\n",
    "\n",
    "michelin[\"Country\"] = michelin[\"Country\"].replace(country_dict)\n",
    "\n",
    "# create dictionary of pycountry standard \n",
    "import pycountry\n",
    "\n",
    "codes_dict = {}\n",
    "\n",
    "for py_c in pycountry.countries:\n",
    "    codes_dict[py_c.name] = {\n",
    "        \"two\": py_c.alpha_2,\n",
    "        \"three\": py_c.alpha_3,\n",
    "    }\n",
    "\n",
    "# add column of pycountry standard\n",
    "michelin[\"Alpha_3\"] = [codes_dict[j][\"three\"] for j in michelin[\"Country\"]]"
   ]
  },
  {
   "cell_type": "code",
   "execution_count": null,
   "id": "53ed7d5b-1c9c-47b2-9c0b-577c952d36c5",
   "metadata": {},
   "outputs": [],
   "source": [
    "michelin[michelin[\"description_sentiment\"]==0]"
   ]
  },
  {
   "cell_type": "code",
   "execution_count": null,
   "id": "94634528-2a57-4d32-8cd7-4b6ef00937ae",
   "metadata": {},
   "outputs": [],
   "source": [
    "def big_bar_percentage(df):\n",
    "    onehot_cols = [ \n",
    "                \"ac\",\t\n",
    "                \"wheelchair\", \n",
    "                \"parking\", \n",
    "                \"garden\",\t\n",
    "                \"wine\",\t\n",
    "                \"terrace\", \n",
    "                \"valet\", \n",
    "                \"vegetarian\", \n",
    "                \"counter\", \n",
    "                \"view\",\n",
    "                \"noshoes\", \n",
    "                \"cashonly\", \n",
    "                \"sake\"\n",
    "                ]\n",
    "\n",
    "    # define function for pivot of bar_percentage chart\n",
    "    def pivot_table_from_count(df1, x, y):\n",
    "\n",
    "        gb = df1.groupby([x, y]).count().reset_index().rename(columns={df.columns[0]: \"count\"}).iloc[::, :3]\n",
    "        pivot = gb.pivot(columns=x, index=y)\n",
    "        pivot.columns = pivot.columns.droplevel()\n",
    "        \n",
    "        pivot[\"sum\"] = pivot.sum(axis=1)\n",
    "        \n",
    "        for col in pivot.columns:\n",
    "            for s in pivot.index:\n",
    "                pivot.loc[s, col] = (pivot.loc[s, col] / pivot.loc[s, \"sum\"])\n",
    "\n",
    "        pivot.index = [\"\".join([y, str(0)]), y]\n",
    "        \n",
    "        return pivot.drop([\"sum\"], axis=1).drop(\"\".join([y, str(0)]), axis=0)\n",
    "        \n",
    "    # combine data for of bar_percentage chart     \n",
    "    onehot_barchart_dict = {}\n",
    "    for onehot in onehot_cols:\n",
    "        try:\n",
    "            onehot_barchart_dict[onehot] = pivot_table_from_count(df, \"Award\", onehot)\n",
    "        except:\n",
    "            pass\n",
    "\n",
    "    onehot_big_df = pd.concat(onehot_barchart_dict.values())\n",
    "    onehot_big_df = onehot_big_df.T[::-1].T\n",
    "\n",
    "    onehot_big_df = onehot_big_df[[\"Selected Restaurants\", \"Bib Gourmand\", \"1 Star\", \"2 Stars\", \"3 Stars\"]]\n",
    "    x = \"Award\"\n",
    "    df = michelin # why is this here\n",
    "\n",
    "    gb = michelin.groupby([x]).count().reset_index().rename(columns={df.columns[0]: \"count\"}).iloc[::, :2]\n",
    "    pivot = gb.set_index(\"Award\").T\n",
    "\n",
    "    pivot[\"sum\"] = pivot.sum(axis=1)\n",
    "\n",
    "    # turn to percentage of data\n",
    "    for col in pivot.columns:\n",
    "        for s in pivot.index:\n",
    "            pivot.loc[s, col] = (pivot.loc[s, col] / pivot.loc[s, \"sum\"])\n",
    "\n",
    "    pivot = pivot.T.rename(columns={\"count\": \"average\"}).T\n",
    "\n",
    "    pivot = pivot.drop([\"sum\"], axis=1)\n",
    "\n",
    "    pivot = pivot[[\"Selected Restaurants\", \"Bib Gourmand\", \"1 Star\", \"2 Stars\", \"3 Stars\"]]\n",
    "\n",
    "    # finalize full data in proper format, concatenated with \"average\" feature\n",
    "    onehot_big_pivot = pd.concat([onehot_big_df, pivot])\n",
    "    onehot_big_pivot = onehot_big_pivot.sort_values(by=[\"3 Stars\"], ascending=True)\n",
    "\n",
    "    return onehot_big_pivot\n",
    "\n",
    "onehot_big_pivot = big_bar_percentage(michelin)\n",
    "\n",
    "def bar_percentage_from_pivot(pivot, title=\"percentage of each michelin award, by presence of amenities\", x_title=\"awards\", y_title=\"amenities\", colors=c5_list):\n",
    "    return px.bar(pivot, x=pivot.columns, y=pivot.index, color_discrete_sequence=colors).update_layout({\n",
    "        \"title\": title, \"xaxis\": {\"title\": x_title}, \"yaxis\": {\"title\": y_title},\n",
    "        \"legend\" : {\"visible\": False}\n",
    "    })\n",
    "\n",
    "fig_H = bar_percentage_from_pivot(onehot_big_pivot)"
   ]
  },
  {
   "cell_type": "code",
   "execution_count": null,
   "id": "518e81e9-4839-4f55-b1fb-36c19ee67c52",
   "metadata": {},
   "outputs": [],
   "source": []
  },
  {
   "cell_type": "code",
   "execution_count": null,
   "id": "f21a811c-4d9b-466f-b41f-5599613bae5e",
   "metadata": {},
   "outputs": [],
   "source": []
  },
  {
   "cell_type": "code",
   "execution_count": null,
   "id": "d965f4d0-3968-423b-817f-c81107e44275",
   "metadata": {},
   "outputs": [],
   "source": []
  },
  {
   "cell_type": "code",
   "execution_count": null,
   "id": "53268ed5-92a1-45d8-9443-27ee727ed8aa",
   "metadata": {},
   "outputs": [],
   "source": []
  },
  {
   "cell_type": "code",
   "execution_count": null,
   "id": "362f4aee-f1ad-4590-8c06-630a4b5b1747",
   "metadata": {},
   "outputs": [],
   "source": [
    "# create groupby for geo data\n",
    "\n",
    "def groupby_three_cunts(df, x, z1, z2, z3, meas1=\"min\", meas2=\"mean\", meas3=\"max\"):\n",
    "    return df.groupby([x]).agg({z1: [\"count\", meas1, meas2, meas3], z2: [meas1, meas2, meas3], z3: [meas1, meas2, meas3]}).reset_index()\n",
    "\n",
    "gb = groupby_three_cunts(michelin, \"Alpha_3\", \"description_sentiment\", \"Award_ordinal\", \"proportion_amenities\", meas1=\"min\", meas2=\"mean\", meas3=\"max\")\n",
    "gb[:5]"
   ]
  },
  {
   "cell_type": "code",
   "execution_count": null,
   "id": "09b51558-52cf-4f85-9418-5953ce701a38",
   "metadata": {},
   "outputs": [],
   "source": [
    "geojson = \"https://raw.githubusercontent.com/johan/world.geo.json/refs/heads/master/countries.geo.json\"\n",
    "\n",
    "def geo_better(gb, geojson, gb_location_column, z_upper, z_lower, height=500, width=700, colors=px.colors.diverging.RdYlBu):\n",
    "\n",
    "    \n",
    "    with urlopen(geojson) as response:\n",
    "        countries = json.load(response)\n",
    "    \n",
    "    \n",
    "    \n",
    "    trace = go.Choroplethmap(geojson=geojson, \n",
    "                             locations=gb[gb_location_column], \n",
    "                             z=gb[(z_upper, z_lower)],\n",
    "                             colorscale=colors, \n",
    "                             marker={\"line\": {\"width\": 0.001, \"color\": \"white\"}}\n",
    "                              )\n",
    "    return go.Figure([trace]).update_layout({\"height\": 500, \"width\": 800})\n",
    "\n",
    "z1 = \"description_sentiment\"\n",
    "z2 = \"Award_ordinal\"\n",
    "z3 = \"proportion_ameneties\"\n",
    "\n",
    "z1_lower_count = \"count\"\n",
    "z_lower_min = \"min\"\n",
    "z_lower_mean = \"mean\"\n",
    "z_lower_max = \"max\"\n",
    "\n",
    "fig = geo_better(gb, geojson, \"Alpha_3\", z1, z_lower_mean, colors=px.colors.sequential.Blues)\n",
    "fig"
   ]
  },
  {
   "cell_type": "code",
   "execution_count": null,
   "id": "fe9767d5-c4e6-419d-a72e-9cbccc92176c",
   "metadata": {},
   "outputs": [],
   "source": [
    "# x: sum up onehot columns and create feature that shows % of ameneties\n",
    "# y: sentiment of review, mean\n",
    "# z: awards on ordinal scale"
   ]
  },
  {
   "cell_type": "code",
   "execution_count": null,
   "id": "5b93fdc0-a083-4ea6-97c1-0e9f0d2d6dc1",
   "metadata": {},
   "outputs": [],
   "source": [
    "parcats1 = [\"GreenStar\", \"ac\",\t\"wheelchair\", \"parking\", \"garden\",\t\"wine\",\t\"terrace\", \"valet\", \"vegetarian\", \"counter\", \"view\",\n",
    "           \"noshoes\", \"cashonly\", \"sake\", \"Award\"]"
   ]
  },
  {
   "cell_type": "code",
   "execution_count": null,
   "id": "974d865b-4d77-4295-b409-e78c0f2c2ed4",
   "metadata": {},
   "outputs": [],
   "source": [
    "parcats1 = [\"GreenStar\", \"ac\",\t\"wheelchair\", \"parking\", \"garden\",\t\"wine\",\t\"terrace\", \"valet\", \"vegetarian\", \"counter\", \"view\",\n",
    "           \"noshoes\", \"cashonly\", \"sake\", \"Award\", \"Award_ordinal\"]\n",
    "\n",
    "px.parallel_categories(michelin[parcats1], color=\"Award_ordinal\").update_layout({\"height\": 550, \"width\": 1050})"
   ]
  },
  {
   "cell_type": "code",
   "execution_count": null,
   "id": "2772dc1d-21c1-4bb6-a887-7e9cf9dbe2e6",
   "metadata": {},
   "outputs": [],
   "source": [
    "parcats2 = [\"Country\", \"Cuisine\", \"Cuisine1\", \"Cuisine2\", \"Award_ordinal\"]"
   ]
  },
  {
   "cell_type": "code",
   "execution_count": null,
   "id": "c7a2bc3e-4e98-479c-816b-1e3be3df6f4f",
   "metadata": {},
   "outputs": [],
   "source": [
    "px.parallel_categories(michelin[parcats2], color=\"Award_ordinal\").update_layout({\"height\": 900})"
   ]
  },
  {
   "cell_type": "code",
   "execution_count": null,
   "id": "af925a14-47a2-4666-be6d-2ffdd32b3b1f",
   "metadata": {},
   "outputs": [],
   "source": [
    "import plotly.express as px\n",
    "\n",
    "def scatter_3d_simple(df, x, y, z, meas1=\"count\", meas2=\"mean\", symbol=\"circle\", size=1, opacity=0.5, colors=px.colors.sequential.Purples, height=650, width=1050):\n",
    "    \n",
    "    gb = df.groupby([x, y]).agg({z: [meas1, meas2]}).reset_index()\n",
    "    gb.columns = [x, y, meas1, meas2]\n",
    "    \n",
    "    fig = px.scatter_3d(x=gb[x], \n",
    "                  y=gb[y], \n",
    "                  z=gb[meas2], \n",
    "                  color=gb[meas1], \n",
    "                  size=gb[meas1],\n",
    "                  opacity=opacity,\n",
    "                  symbol_sequence=[symbol],\n",
    "                  color_continuous_scale=colors\n",
    "                 ).update_traces({\"marker\": {\"line\": {\"width\": 0}, \"size\": [h * size for h in gb[meas1]]}})\n",
    "\n",
    "    return gb, fig.update_layout({\"title\": {\"text\": f\"{x}, {y}, and {z}, by {meas2} and {meas1}\", \"x\": 0.5}, \"height\": height, \"width\": width,\n",
    "                             \"scene\": {\"xaxis\": {\"title\": f\"{x}\"},\n",
    "                                       \"yaxis\": {\"title\": f\"{y}\"},\n",
    "                                       \"zaxis\": {\"title\": f\"{z}\"}}\n",
    "                             })\n",
    "\n",
    "gb, fig = scatter_3d_simple(michelin,\"description_sentiment\", \"wine\", \"Award_ordinal\", \"count\", \"mean\", symbol=\"circle\", size=10, opacity=0.3, colors=px.colors.sequential.Oryel, height=650, width=650)\n",
    "\n",
    "fig"
   ]
  },
  {
   "cell_type": "code",
   "execution_count": null,
   "id": "3542cb8c-d0e7-47e0-8025-2a174397ef35",
   "metadata": {},
   "outputs": [],
   "source": [
    "fig, corr = heatmap_allfeatures_pearson(michelin, height=800, colors=px.colors.diverging.RdYlBu)\n",
    "fig"
   ]
  },
  {
   "cell_type": "code",
   "execution_count": null,
   "id": "cd000baa-b24b-45e4-9675-587d37a20e42",
   "metadata": {},
   "outputs": [],
   "source": [
    "garbage_cols = [\"Url\", \"FacilitiesAndServices\",]\n",
    "michelin[:3]"
   ]
  },
  {
   "cell_type": "code",
   "execution_count": null,
   "id": "9feb6b95-6fdc-49a2-b095-80e7d47837b4",
   "metadata": {
    "scrolled": true
   },
   "outputs": [],
   "source": [
    "\n",
    "\n",
    "def histogram_overview(df, max_cols=4, height=500, color=px.colors.qualitative.T10):\n",
    "    \n",
    "    max_rows=ceil(float(len(df.columns))/max_cols)\n",
    "    fig = make_subplots(\n",
    "        rows=max_rows, \n",
    "        cols=max_cols,\n",
    "        subplot_titles=df.columns,).update_layout(\n",
    "        {\"title\":\"histograms of features\"})\n",
    "    \n",
    "    col_cyc = cycle(iter(range(1,max_cols+1)))\n",
    "    color_list = cycle(iter(color))\n",
    "    row=1\n",
    "    \n",
    "    for j in df.columns:\n",
    "        col = next(col_cyc)\n",
    "        fig.add_histogram(\n",
    "            x=df[j].values,\n",
    "            row=row, \n",
    "            col=col, \n",
    "            name=j,\n",
    "            marker={\"color\": next(color_list)}\n",
    "            \n",
    "        ).update_layout({\"height\": height})\n",
    "        if col % max_cols == 0:\n",
    "            row+=1\n",
    "        \n",
    "    return fig\n",
    "\n",
    "hist_cols_to_drop = [\"Cuisine\", \"Name\", \"Address\", \"Price\", \"Location\", \"Url\", \"FacilitiesAndServices\", \"Description\"]\n",
    "michelin_hist = michelin.drop(hist_cols_to_drop, axis=1)\n",
    "\n",
    "fig = histogram_overview(michelin_hist, max_cols=3, height=3600, color=px.colors.sequential.Oryel)\n",
    "fig"
   ]
  },
  {
   "cell_type": "code",
   "execution_count": null,
   "id": "713488f4-406b-472b-ba91-15a7d7d2cd21",
   "metadata": {
    "scrolled": true
   },
   "outputs": [],
   "source": [
    "continuous = [\"Longtitude\", \"Latittude\", \"description_sentiment\", \"proportion_amenities\"]\n",
    "\n",
    "# pie chart for categoricals\n",
    "def pie_categoricals(df, categoricals, max_cols=6, colorscale=px.colors.qualitative.T10, height=650, width=1050):\n",
    "    \n",
    "    max_rows=ceil(float(len(df[categoricals].columns))/max_cols)\n",
    "    \n",
    "    fig = make_subplots(\n",
    "        rows=max_rows,\n",
    "        cols=max_cols,\n",
    "        specs=[\n",
    "            [{\"type\":\"pie\"} for h in range(max_cols)] for j in range(max_rows)       \n",
    "              ],\n",
    "    \n",
    "        subplot_titles=df[categoricals].columns\n",
    "    ).update_layout(\n",
    "        {\"title\":f\"pies of categorical features\"})\n",
    "    \n",
    "    pies = [df.groupby(j).count().iloc[::, 0].reset_index().rename(columns={str(df.columns[0]):\"count\"}) for j in categoricals]\n",
    "    \n",
    "    col_cyc = cycle(iter(range(1,max_cols+1)))\n",
    "    color_list = colorscale\n",
    "    \n",
    "    row=1\n",
    "    \n",
    "    pies = [df.groupby(j).count().iloc[::, 0].reset_index().rename(columns={str(df.columns[0]):\"count\"}) for j in categoricals]\n",
    "    \n",
    "    \n",
    "    for j in range(len(pies)):\n",
    "        col = next(col_cyc)\n",
    "        fig.add_pie(\n",
    "            labels=pies[j].iloc[::, 0].values,\n",
    "            values=pies[j].iloc[::, 1].values,\n",
    "            row=row, col=col,\n",
    "            showlegend=False,\n",
    "            name=categoricals[j],\n",
    "        ).update_traces(marker={\"colors\": color_list},\n",
    "                       textinfo=\"none\")\n",
    "        if col % max_cols == 0:\n",
    "            row+=1    \n",
    "    \n",
    "    return fig.update_layout({\"height\": height, \"width\":width})\n",
    "\n",
    "pie_cols_to_drop = [\"Longitude\", \"Latitude\", \"description_sentiment\", \"proportion_amenities\",\"Name\", \"Address\", \"Price\", \"Location\", \"Description\", \"Country\", \"City\", \"Cuisine\"]\n",
    "\n",
    "michelin_pie = michelin.drop(garbage_cols, axis=1)\n",
    "michelin_pie = michelin_pie.drop(pie_cols_to_drop, axis=1)\n",
    "categoricals = michelin_pie.columns\n",
    "\n",
    "fig = pie_categoricals(michelin_pie, categoricals, max_cols=5, colorscale=px.colors.sequential.gray[5:], width=1050, height=1200)\n",
    "\n",
    "fig"
   ]
  },
  {
   "cell_type": "code",
   "execution_count": null,
   "id": "fd954562-97a6-43d4-b83e-9199e699e7fe",
   "metadata": {},
   "outputs": [],
   "source": [
    "from plotly.subplots import make_subplots\n",
    "from plotly.offline import plot, iplot\n",
    "\n",
    "from math import ceil\n",
    "from itertools import cycle\n",
    "\n",
    "\n",
    "def continuous_bars_by_categorical(df, categoricals, categorical_sliceable, continuous_dep=None, max_cols=4, height=500, color=px.colors.qualitative.T10):\n",
    "    # bar charts of one categorical, measured by all other continuous variables.\n",
    "    \n",
    "    print(f\"Categorical variables are {categoricals}, dependent variable is [{continuous_dep}]\")\n",
    "    \n",
    "    # separate function\n",
    "    \n",
    "    cs = [f for f in categoricals if f != categorical_sliceable]\n",
    "    df = df.drop(cs, axis=1)\n",
    "\n",
    "    # keep this the same\n",
    "\n",
    "    max_rows=ceil(float(len(df.columns))/max_cols)\n",
    "    fig = make_subplots(\n",
    "        rows=max_rows,\n",
    "        cols=max_cols,\n",
    "        subplot_titles=df.columns).update_layout(\n",
    "        {\"title\":f\"bars of {categorical_sliceable}, cut by all other features\"})\n",
    "    \n",
    "    col_cyc = cycle(iter(range(1,max_cols+1)))\n",
    "    color_list = cycle(iter(color[:len(df[categorical_sliceable].unique())]))\n",
    "    \n",
    "    row=1\n",
    "    ctr=0\n",
    "    \n",
    "    for j in df.columns:\n",
    "        col = next(col_cyc)\n",
    "        for attr in df[categorical_sliceable].unique():\n",
    "            if j == categorical_sliceable == continuous_dep:\n",
    "                fig.add_bar(\n",
    "                    x = [attr],\n",
    "                    y = [df[j][df[categorical_sliceable]==attr].mean()],\n",
    "                    row=row, \n",
    "                    col=col, \n",
    "                    name=j,\n",
    "                    marker={\"color\": color[-1]},\n",
    "                    showlegend=False\n",
    "                )\n",
    "                \n",
    "            \n",
    "            elif j == categorical_sliceable and j != continuous_dep:\n",
    "                if ctr < 1:\n",
    "                    ctr += 1\n",
    "                    fig.add_histogram(\n",
    "                        x=df[j],\n",
    "                        row=row,\n",
    "                        col=col,\n",
    "                        name=j,\n",
    "                        marker={\"color\": color[len(df[j].unique())+1]},\n",
    "                        showlegend=False\n",
    "                    )\n",
    "                else:\n",
    "                    pass\n",
    "\n",
    "            elif j == continuous_dep and j != categorical_sliceable:\n",
    "                fig.add_bar(\n",
    "                    x = [attr],\n",
    "                    y = [df[j][df[categorical_sliceable]==attr].mean()],\n",
    "                    row=row, \n",
    "                    col=col, \n",
    "                    name=j,\n",
    "                    marker={\"color\": color[-1]},\n",
    "                    showlegend=False\n",
    "                    \n",
    "                )\n",
    "\n",
    "            else:\n",
    "                fig.add_bar(\n",
    "                    x = [attr],\n",
    "                    y = [df[j][df[categorical_sliceable]==attr].mean()],\n",
    "                    row=row, \n",
    "                    col=col, \n",
    "                    name=j,\n",
    "                    marker={\"color\": next(color_list)},\n",
    "                    showlegend=False        \n",
    "                )\n",
    "\n",
    "\n",
    "        if col % max_cols == 0:\n",
    "            row+=1\n",
    "\n",
    "    return fig.update_layout({\"height\": height,\n",
    "                             \"barcornerradius\": 1,\n",
    "                              \"bargap\":0.7\n",
    "                             })\n",
    "\n",
    "categoricals = michelin_pie.columns\n",
    "michelin_bars = michelin.drop([\"Url\", \"FacilitiesAndServices\", \"Description\", \"Country\", \"City\", \"Name\", \"Address\", \"Location\", \"Cuisine\"], axis=1)\n",
    "\n",
    "g = continuous_bars_by_categorical(michelin_bars, categoricals=categoricals, categorical_sliceable=\"Award\", continuous_dep=\"Award_ordinal\", max_cols=3, height=800, color=px.colors.sequential.Oryel)\n",
    "g"
   ]
  },
  {
   "cell_type": "code",
   "execution_count": null,
   "id": "0ae2a509-960a-41b3-92ad-6b8cf78bdcd3",
   "metadata": {},
   "outputs": [],
   "source": [
    "# michelin.drop(categoricals, axis=1).drop([\"Url\", \"FacilitiesAndServices\", \"Description\", \"Country\", \"City\", \"Name\", \"Address\", \"Location\", \"Cuisine\"], axis=1)"
   ]
  },
  {
   "cell_type": "code",
   "execution_count": null,
   "id": "cbcaea4d-4b16-457b-ac31-c07f179eeb2f",
   "metadata": {},
   "outputs": [],
   "source": [
    "categoricals = [f for f in categoricals]"
   ]
  },
  {
   "cell_type": "code",
   "execution_count": null,
   "id": "624b709a-83bf-4654-831e-04c795c41650",
   "metadata": {},
   "outputs": [],
   "source": [
    "categoricals.append(\"Price\")"
   ]
  },
  {
   "cell_type": "code",
   "execution_count": null,
   "id": "d5011261-2ab8-46a4-a170-2965b2a547e1",
   "metadata": {},
   "outputs": [],
   "source": [
    "def examine_categorical_by_categoricals(df, categoricals, sliceable, max_cols=4, height=700):\n",
    "    # bar chart of each categorical, count(), grouped by sliceable\n",
    "\n",
    "    print(f\"Categorical variables are {categoricals}\")\n",
    "\n",
    "    df = df[categoricals]\n",
    "    \n",
    "    max_rows=ceil(float(len(df.columns))/max_cols)\n",
    "    \n",
    "    fig = make_subplots(\n",
    "        rows=max_rows,\n",
    "        cols=max_cols,\n",
    "        subplot_titles=df.drop([sliceable], axis=1).columns).update_layout(\n",
    "        {\"title\":f\"bars of features, slice by {sliceable}\"})\n",
    "    \n",
    "    col_cyc = cycle(iter(range(1,max_cols+1)))\n",
    "    color_list = cycle(iter(px.colors.qualitative.T10[:len(df[sliceable].unique())]))\n",
    "    \n",
    "    row=1\n",
    "    ctr=0\n",
    "\n",
    "    for j in df.drop([sliceable], axis=1).columns:\n",
    "        col = next(col_cyc)\n",
    "        for attr1 in df[j].unique():\n",
    "            if ctr < 1:\n",
    "                for attr2 in df[sliceable].unique():\n",
    "                    fig.add_bar(\n",
    "                        x = [attr1],\n",
    "                        y = [df[j][(df[j]==attr1) & (df[sliceable]==attr2)].count()],\n",
    "                        row=row,\n",
    "                        col=col,\n",
    "                        marker={\"color\": next(color_list)},         \n",
    "                        name=str(attr2),\n",
    "                        showlegend=True\n",
    "                        )\n",
    "            else:\n",
    "                for attr2 in df[sliceable].unique():\n",
    "                    fig.add_bar(\n",
    "                        x = [attr1],\n",
    "                        y = [df[j][(df[j]==attr1) & (df[sliceable]==attr2)].count()],\n",
    "                        row=row,\n",
    "                        col=col,\n",
    "                        marker={\"color\": next(color_list)},         \n",
    "                        name=str(attr2),\n",
    "                        showlegend=False\n",
    "                        )\n",
    "            ctr+=1\n",
    "\n",
    "        if col % max_cols == 0:\n",
    "            row+=1\n",
    "            \n",
    "    return fig.update_layout({\"height\": height,\n",
    "                              \"barcornerradius\": 1,\n",
    "                              \"bargap\": 0.0005,\n",
    "                              \"barmode\":\"group\",\n",
    "                              \"legend\": {\"title\": sliceable}\n",
    "                             })\n",
    "        \n",
    "examine_categorical_by_categoricals(michelin, categoricals=categoricals, sliceable=\"Award\", max_cols=3, height=1200)"
   ]
  },
  {
   "cell_type": "code",
   "execution_count": null,
   "id": "1357d0b7-f692-414e-8078-7676c7b9f983",
   "metadata": {},
   "outputs": [],
   "source": [
    "def heatmap_pearson_onefeature(df, dep, width, color=\"RdBu_r\"):\n",
    "\n",
    "    df = df.select_dtypes([\"number\"])\n",
    "    \n",
    "    corr = df.corr().round(2)\n",
    "    corr = corr[[dep]].drop([dep], axis=0)\n",
    "    \n",
    "    g = px.imshow(corr.T, text_auto=True, color_continuous_scale=color, zmin=-1, zmax=1)\n",
    "    \n",
    "    g.update_layout(\n",
    "    {\"template\": \"plotly_white\",\n",
    "     \"width\": width,\n",
    "     \"title\": f\"heatmap, pearson correlation with {dep}\",\n",
    "     \"xaxis\": {\"showgrid\": False,\n",
    "              \"zeroline\": False},\n",
    "     \"yaxis\": {\"showgrid\": False,\n",
    "              \"zeroline\": False}\n",
    "   }).update_traces(xgap=5,ygap=5)\n",
    "    return g, corr\n",
    "\n",
    "fig, corr= heatmap_pearson_onefeature(michelin, dep=\"Award_ordinal\", width=1050, color=px.colors.diverging.RdYlBu_r)\n",
    "fig"
   ]
  },
  {
   "cell_type": "code",
   "execution_count": null,
   "id": "c2d39775-0d13-440a-aa4e-fce8e35086d3",
   "metadata": {},
   "outputs": [],
   "source": [
    "michelin.dtypes\n",
    "scatter_cols = [\"Price\", \"Longitude\", \"Latitude\", \"Award_ordinal\", \"description_sentiment\", \"proportion_amenities\", \"GreenStar\"]"
   ]
  },
  {
   "cell_type": "code",
   "execution_count": null,
   "id": "4e477ee4-1129-4b00-99b1-f74c0d55eee5",
   "metadata": {},
   "outputs": [],
   "source": [
    "def scatters_continuous(df, color=None, opacity=0.5, max_cols=4, height=2000):\n",
    "\n",
    "    print(f\"Features analysed are {df.columns}\")\n",
    "\n",
    "    check_list1 = []\n",
    "    for j in df.columns:\n",
    "        for h in df.columns:\n",
    "            if j != h:\n",
    "                if (j, h) not in check_list1:\n",
    "                    if (h, j) not in check_list1:\n",
    "                        check_list1.append((j, h))    \n",
    "        \n",
    "    max_rows=ceil(float(len(check_list1))/max_cols)\n",
    "        \n",
    "    fig = make_subplots(\n",
    "        rows=max_rows,\n",
    "        cols=max_cols,\n",
    "        subplot_titles=[\", \".join([q, a]) for (q, a) in check_list1]\n",
    "    )\n",
    "    \n",
    "    col_cyc = cycle(iter(range(1,max_cols+1)))\n",
    "    color_list = cycle(iter(px.colors.qualitative.T10))\n",
    "    \n",
    "    row=1\n",
    "    \n",
    "    check_list2 = []\n",
    "    for j in df.columns:\n",
    "        for h in df.columns:\n",
    "            if j != h:\n",
    "                if (j, h) not in check_list2:\n",
    "                    if (h, j) not in check_list2:\n",
    "                        check_list2.append((h, j))\n",
    "                        col = next(col_cyc)\n",
    "                        fig.add_scatter(\n",
    "                            x=df[j], \n",
    "                            y=df[h], \n",
    "                            row=row, \n",
    "                            col=col,\n",
    "                            showlegend=False,\n",
    "                            name=\", \".join([str(j), str(h)]),\n",
    "                            mode=\"markers\",\n",
    "                            marker={\"color\": next(color_list), \"opacity\": opacity}\n",
    "                        ).update_layout({\"title\": f\"{j} by {h}\", \n",
    "                                        \"xaxis\": {\"title\": j},\n",
    "                                        \"yaxis\": {\"title\": h}})\n",
    "        \n",
    "                        if col % max_cols == 0:\n",
    "                            row+=1\n",
    "\n",
    "    return fig.update_layout({\"title\": f\"scatter plots, all features by all features\", \"height\": max_rows*300, \"width\":1000}), check_list1\n",
    "\n",
    "michelin.dtypes\n",
    "scatter_cols = [\"Price\", \"Longitude\", \"Latitude\", \"Award_ordinal\", \"description_sentiment\", \"proportion_amenities\", \"GreenStar\"]\n",
    "michelin_scatter = michelin[scatter_cols]\n",
    "\n",
    "fig, check_list1 = scatters_continuous(michelin_scatter, opacity=0.01, color=\"Award_ordinal\", max_cols=2)"
   ]
  },
  {
   "cell_type": "code",
   "execution_count": null,
   "id": "bd74db7c-25e8-4dc3-931f-d301ad52c0c6",
   "metadata": {},
   "outputs": [],
   "source": [
    "# fig"
   ]
  },
  {
   "cell_type": "code",
   "execution_count": null,
   "id": "dafd960b-f39c-4ef0-b1c5-7e68c83fcbc9",
   "metadata": {},
   "outputs": [],
   "source": [
    "# def box_similar(df, cols, colors=px.colors.qualitative.T10, height=400, width=1200):\n",
    "\n",
    "#     print(\"features in this chart are: \", cols)\n",
    "    \n",
    "#     color_list = cycle(iter(colors))\n",
    "    \n",
    "#     traces = []\n",
    "    \n",
    "#     for j in cols:\n",
    "#         trace = go.Box(\n",
    "#             y=df[j],\n",
    "#             name=j,\n",
    "#             notched=True,\n",
    "#             marker={\"color\": next(color_list)}        \n",
    "#         )\n",
    "#         traces.append(trace)\n",
    "    \n",
    "#     return go.Figure(traces).update_layout({\"title\": \"boxplot of similar features\", \"height\": height,\"width\": width})\n",
    "\n",
    "# box_similar(michelin, cols=boxplot_cols, colors=px.colors.cyclical.mygbm, height=400, width=1000)"
   ]
  },
  {
   "cell_type": "code",
   "execution_count": null,
   "id": "681e0925-9c13-4777-a0ca-6837007fb456",
   "metadata": {},
   "outputs": [],
   "source": [
    "df = michelin\n",
    "x = \"Cuisine1\"\n",
    "y = \"Award_ordinal\"\n",
    "colors = px.colors.cyclical.mygbm\n",
    "\n",
    "def box_single_categorical_rainbow(df, x_categorical, y_continuous, colors, height, width):\n",
    "    \n",
    "    color_iter = cycle(iter(colors))\n",
    "    \n",
    "    traces = []\n",
    "    \n",
    "    for k in df[x_categorical].unique():\n",
    "        trace = go.Box(\n",
    "            x = df[df[x_categorical]==k][x_categorical],\n",
    "            y = df[df[x_categorical]==k][y_continuous],\n",
    "            marker={\"color\": next(color_iter)},\n",
    "            name=x,\n",
    "            showlegend=False\n",
    "        )\n",
    "    \n",
    "        traces.append(trace)\n",
    "    \n",
    "    return go.Figure(traces).update_layout({\"title\": f\"box and whiskers of {x_categorical} by {y_continuous}\",\n",
    "                                            \"height\": height,\n",
    "                                            \"width\": width})\n",
    "\n",
    "box_single_categorical_rainbow(michelin, \"Price\", \"Award_ordinal\", colors=px.colors.cyclical.mygbm, height=650, width=1050)"
   ]
  },
  {
   "cell_type": "code",
   "execution_count": null,
   "id": "89d108a3-40c7-4b30-8131-c673a3f2e9b4",
   "metadata": {},
   "outputs": [],
   "source": [
    "# def pivot_table_from_count(df, x, y):\n",
    "\n",
    "#     gb = michelin.groupby([x]).count().reset_index().rename(columns={df.columns[0]: \"count\"}).iloc[::, :3]\n",
    "#     pivot = gb.pivot(columns=x, index=y)\n",
    "#     pivot.columns = pivot.columns.droplevel()\n",
    "    \n",
    "#     pivot[\"sum\"] = pivot.sum(axis=1)\n",
    "    \n",
    "#     for col in pivot.columns:\n",
    "#         for s in pivot.index:\n",
    "#             pivot.loc[s, col] = (pivot.loc[s, col] / pivot.loc[s, \"sum\"])\n",
    "\n",
    "#     pivot.index = [\"\".join([y, str(0)]), y]\n",
    "    \n",
    "#     return pivot.drop([\"sum\"], axis=1).drop(\"\".join([y, str(0)]), axis=0)"
   ]
  },
  {
   "cell_type": "code",
   "execution_count": null,
   "id": "3828373e-a412-41a6-8576-3ab74ddf02ba",
   "metadata": {},
   "outputs": [],
   "source": [
    "onehot_cols = [ \n",
    "               \"ac\",\t\n",
    "               \"wheelchair\", \n",
    "               \"parking\", \n",
    "               \"garden\",\t\n",
    "               \"wine\",\t\n",
    "               \"terrace\", \n",
    "               \"valet\", \n",
    "               \"vegetarian\", \n",
    "               \"counter\", \n",
    "               \"view\",\n",
    "               \"noshoes\", \n",
    "               \"cashonly\", \n",
    "               \"sake\"\n",
    "              ]"
   ]
  },
  {
   "cell_type": "code",
   "execution_count": null,
   "id": "89a8007b-e21a-49d9-8169-725acfa27cfd",
   "metadata": {},
   "outputs": [],
   "source": [
    "# define function for pivot\n",
    "\n",
    "def pivot_table_from_count(df, x, y):\n",
    "\n",
    "    gb = michelin.groupby([x, y]).count().reset_index().rename(columns={df.columns[0]: \"count\"}).iloc[::, :3]\n",
    "    pivot = gb.pivot(columns=x, index=y)\n",
    "    pivot.columns = pivot.columns.droplevel()\n",
    "    \n",
    "    pivot[\"sum\"] = pivot.sum(axis=1)\n",
    "    \n",
    "    for col in pivot.columns:\n",
    "        for s in pivot.index:\n",
    "            pivot.loc[s, col] = (pivot.loc[s, col] / pivot.loc[s, \"sum\"])\n",
    "\n",
    "    pivot.index = [\"\".join([y, str(0)]), y]\n",
    "    \n",
    "    return pivot.drop([\"sum\"], axis=1).drop(\"\".join([y, str(0)]), axis=0)"
   ]
  },
  {
   "cell_type": "code",
   "execution_count": null,
   "id": "def3367f-9ed1-4172-ac7d-4a3204e6128f",
   "metadata": {},
   "outputs": [],
   "source": [
    "# call function for all these count variables\n",
    "\n",
    "onehot_cols = [ \n",
    "               \"ac\",\t\n",
    "               \"wheelchair\", \n",
    "               \"parking\", \n",
    "               \"garden\",\t\n",
    "               \"wine\",\t\n",
    "               \"terrace\", \n",
    "               \"valet\", \n",
    "               \"vegetarian\", \n",
    "               \"counter\", \n",
    "               \"view\",\n",
    "               \"noshoes\", \n",
    "               \"cashonly\", \n",
    "               \"sake\"\n",
    "              ]\n",
    "# define function for pivot\n",
    "\n",
    "def pivot_table_from_count(df, x, y):\n",
    "\n",
    "    gb = michelin.groupby([x, y]).count().reset_index().rename(columns={df.columns[0]: \"count\"}).iloc[::, :3]\n",
    "    pivot = gb.pivot(columns=x, index=y)\n",
    "    pivot.columns = pivot.columns.droplevel()\n",
    "    \n",
    "    pivot[\"sum\"] = pivot.sum(axis=1)\n",
    "    \n",
    "    for col in pivot.columns:\n",
    "        for s in pivot.index:\n",
    "            pivot.loc[s, col] = (pivot.loc[s, col] / pivot.loc[s, \"sum\"])\n",
    "\n",
    "    pivot.index = [\"\".join([y, str(0)]), y]\n",
    "    \n",
    "    return pivot.drop([\"sum\"], axis=1).drop(\"\".join([y, str(0)]), axis=0)\n",
    "    \n",
    "onehot_barchart_dict = {}\n",
    "for onehot in onehot_cols:\n",
    "    onehot_barchart_dict[onehot] = pivot_table_from_count(michelin, \"Award\", onehot)\n",
    "\n",
    "onehot_big_df = pd.concat(onehot_barchart_dict.values())\n",
    "onehot_big_df = onehot_big_df.T[::-1].T\n",
    "\n",
    "#order cols\n",
    "onehot_big_df = onehot_big_df[[\"Selected Restaurants\", \"Bib Gourmand\", \"1 Star\", \"2 Stars\", \"3 Stars\"]]\n",
    "\n",
    "# add in average dataframe\n",
    "\n",
    "x = \"Award\"\n",
    "df = michelin\n",
    "\n",
    "gb = michelin.groupby([x]).count().reset_index().rename(columns={df.columns[0]: \"count\"}).iloc[::, :2]\n",
    "pivot = gb.set_index(\"Award\").T\n",
    "\n",
    "pivot[\"sum\"] = pivot.sum(axis=1)\n",
    "\n",
    "for col in pivot.columns:\n",
    "    for s in pivot.index:\n",
    "        pivot.loc[s, col] = (pivot.loc[s, col] / pivot.loc[s, \"sum\"])\n",
    "\n",
    "pivot = pivot.T.rename(columns={\"count\": \"average\"}).T\n",
    "\n",
    "pivot = pivot.drop([\"sum\"], axis=1)\n",
    "\n",
    "# order cols\n",
    "pivot = pivot[[\"Selected Restaurants\", \"Bib Gourmand\", \"1 Star\", \"2 Stars\", \"3 Stars\"]]\n",
    "\n",
    "onehot_big_df = pd.concat([onehot_big_df, pivot])\n",
    "onehot_big_df = onehot_big_df.sort_values(by=[\"3 Stars\"], ascending=True)\n",
    "\n",
    "onehot_big_df"
   ]
  },
  {
   "cell_type": "code",
   "execution_count": null,
   "id": "4209e422-db99-447b-b579-6d736e096124",
   "metadata": {},
   "outputs": [],
   "source": [
    "pivot"
   ]
  },
  {
   "cell_type": "code",
   "execution_count": null,
   "id": "0110baca-600d-40b9-9e53-4623fc52b2c2",
   "metadata": {},
   "outputs": [],
   "source": [
    "# add in average dataframe\n",
    "\n",
    "x = \"Award\"\n",
    "df = michelin\n",
    "\n",
    "gb = michelin.groupby([x]).count().reset_index().rename(columns={df.columns[0]: \"count\"}).iloc[::, :2]\n",
    "pivot = gb.set_index(\"Award\").T\n",
    "\n",
    "pivot[\"sum\"] = pivot.sum(axis=1)\n",
    "\n",
    "for col in pivot.columns:\n",
    "    for s in pivot.index:\n",
    "        pivot.loc[s, col] = (pivot.loc[s, col] / pivot.loc[s, \"sum\"])\n",
    "\n",
    "pivot = pivot.T.rename(columns={\"count\": \"average\"}).T\n",
    "\n",
    "pivot = pivot.drop([\"sum\"], axis=1)\n",
    "\n",
    "# order cols\n",
    "pivot = pivot[[\"Selected Restaurants\", \"Bib Gourmand\", \"1 Star\", \"2 Stars\", \"3 Stars\"]]"
   ]
  },
  {
   "cell_type": "code",
   "execution_count": null,
   "id": "fdf45fc7-0580-4e47-ab70-d53ec791f7bd",
   "metadata": {},
   "outputs": [],
   "source": [
    "# concat big dataframe with averages\n",
    "onehot_big_df = pd.concat([onehot_big_df, pivot])\n",
    "onehot_big_df = onehot_big_df.sort_values(by=[\"3 Stars\"], ascending=True)"
   ]
  },
  {
   "cell_type": "code",
   "execution_count": null,
   "id": "296b4432-35ab-45e2-960c-22c87f5a3217",
   "metadata": {},
   "outputs": [],
   "source": [
    "onehot_big_df"
   ]
  },
  {
   "cell_type": "code",
   "execution_count": null,
   "id": "5c23b55a-d860-4a4d-ace7-8e9c3c8199aa",
   "metadata": {},
   "outputs": [],
   "source": [
    "\n",
    "def bar_percentage_from_pivot(pivot, title, x_title=pivot.columns.name, y_title=pivot.index.name, colors=px.colors.sequential.Oryel, height=650, width=1050):\n",
    "    return px.bar(pivot, x=pivot.columns, y=pivot.index, color_discrete_sequence=colors).update_layout({\n",
    "        \"title\": title, \"height\": height, \"width\": width, \"xaxis\": {\"title\": x_title}, \"yaxis\": {\"title\": y_title},\n",
    "        \"legend\" : {\"visible\": False}\n",
    "        # {\"orientation\": \"h\", \"yanchor\": \"bottom\", \"y\": 1.00, \"xanchor\": \"right\", \"x\": 1.00}\n",
    "    })\n",
    "#     fig.update_layout(legend=dict(\n",
    "#     orientation=\"h\",\n",
    "#     yanchor=\"bottom\",\n",
    "#     y=1.02,\n",
    "#     xanchor=\"right\",\n",
    "#     x=1\n",
    "# ))\n",
    "\n",
    "bar_percentage_from_pivot(onehot_big_df, title=\"percentage of each michelin award, by presence of amenities\", y_title=\"amenities\", height=650, width=1050)"
   ]
  },
  {
   "cell_type": "code",
   "execution_count": null,
   "id": "9ed0379b-cb20-455a-a827-1a7cd8abc77f",
   "metadata": {},
   "outputs": [],
   "source": [
    "fig, corr = heatmap_allfeatures_pearson(michelin, height=800, colors=px.colors.diverging.RdYlBu_r)\n",
    "fig"
   ]
  },
  {
   "cell_type": "code",
   "execution_count": null,
   "id": "fb92e084-094a-4083-82be-2b2158dd319f",
   "metadata": {},
   "outputs": [],
   "source": [
    "from sklearn.linear_model import LinearRegression\n",
    "import plotly.graph_objs as go\n",
    "from scipy import stats\n",
    "\n",
    "def scatter_bands(x, y, conf=0.95, colors=px.colors.qualitative.T10, opacity=0.5, height=650, width=1050):\n",
    "\n",
    "    # sort x and y\n",
    "    list_of_tuples = [(a,b) for a,b in zip(x, y)]\n",
    "    list_of_sorted_tuples = sorted(list_of_tuples, key=lambda j: j[0])\n",
    "    x_arr = np.asarray([a[0] for a in list_of_sorted_tuples])\n",
    "    y_arr = np.asarray([b[1] for b in list_of_sorted_tuples])\n",
    "\n",
    "    # linear regression model\n",
    "    model = LinearRegression()\n",
    "    model.fit(x_arr.reshape(-1, 1), y_arr)\n",
    "    y_hat = model.predict(x_arr.reshape(-1, 1))\n",
    "\n",
    "    # figures needed for inferential statistics\n",
    "    n = x_arr.size\n",
    "    m = len(x_arr.shape)\n",
    "    dof = n - m\n",
    "    t = stats.t.ppf(conf, dof)\n",
    "\n",
    "    resid = y_arr - y_hat\n",
    "    se = np.sqrt(np.sum(resid**2) / dof)\n",
    "\n",
    "    ci = t * se * np.sqrt(1/n + (x_arr - np.mean(x_arr))**2 / np.sum((x_arr - np.mean(x_arr))**2))\n",
    "    pi = t * se * np.sqrt(1 + 1/n + (x_arr - np.mean(x_arr))**2 / np.sum((x_arr - np.mean(x_arr))**2))\n",
    "\n",
    "    pi2 = np.linspace(pi.min(), pi.max(), 100)\n",
    "    x2 = np.linspace(x_arr.min(), x_arr.max(), 100)\n",
    "    y_hat2 = np.linspace(y_hat.min(), y_hat.max(), 100)\n",
    "\n",
    "    # scatterplot with ci // pi bands\n",
    "    ff = go.Figure()\n",
    "\n",
    "    ff.add_trace(\n",
    "        go.Scatter(\n",
    "            x=x_arr,\n",
    "            y=y_arr,\n",
    "            mode=\"markers\",\n",
    "            marker={\"color\": colors[0], \"opacity\": opacity},\n",
    "            name=\"restaurants\"\n",
    "        )\n",
    "    )\n",
    "\n",
    "    ff.add_trace(\n",
    "        go.Scatter(\n",
    "            x=x_arr,\n",
    "            y=y_hat+ci,\n",
    "            mode=\"lines\",\n",
    "            line={\"color\": colors[2], \"width\": 0},\n",
    "            name=\"upper ci band limit\",\n",
    "            showlegend=False\n",
    "        )\n",
    "    )\n",
    "\n",
    "    ff.add_trace(\n",
    "        go.Scatter(\n",
    "            x=x_arr,\n",
    "            y=y_hat-ci,\n",
    "            mode=\"lines\",\n",
    "            line={\"color\": colors[2], \"width\": 0},\n",
    "            name=f\"{round(conf * 100)}% confidence interval   \",\n",
    "            fill=\"tonexty\",\n",
    "            fillcolor=colors[2]\n",
    "        )\n",
    "    )\n",
    "\n",
    "    ff.add_trace(\n",
    "        go.Scatter(\n",
    "            x=x2,\n",
    "            y=y_hat2+pi2,\n",
    "            mode=\"lines\",\n",
    "            line={\"color\": colors[3], \"width\": 1, \"dash\": \"dash\"},\n",
    "            name=f\"{round(conf*100)}% prediction interval\",\n",
    "        )\n",
    "    )\n",
    "\n",
    "    ff.add_trace(\n",
    "        go.Scatter(\n",
    "            x=x2,\n",
    "            y=y_hat2-pi2,\n",
    "            mode=\"lines\",\n",
    "            line={\"color\": colors[3], \"width\": 1, \"dash\": \"dash\"},\n",
    "            name=\"lower pi band limit\",\n",
    "            showlegend=False\n",
    "        )\n",
    "    )\n",
    "\n",
    "    ff.add_trace(\n",
    "        go.Scatter(\n",
    "            x=x_arr,\n",
    "            y=y_hat,\n",
    "            mode=\"lines\",\n",
    "            line={\"color\": colors[1]},\n",
    "            name=\"linear model\",\n",
    "        )\n",
    "    )\n",
    "    \n",
    "    # ff.update_layout(\n",
    "    #     dict(\n",
    "    #         plot_bgcolor=\"#1e1e1e\",\n",
    "    #         paper_bgcolor=\"#111111\",\n",
    "    #         font={\"family\": \"Lato\", \"color\": \"#979797\"},\n",
    "    #         title=dict(\n",
    "    #             x=0.5,\n",
    "    #             text=f\"{y.name.title()} by {x.name.title()}\",\n",
    "    #             font={\"size\": 28.5, \"color\": \"white\"}\n",
    "    #             )\n",
    "    #         ),\n",
    "    #         legend=dict(\n",
    "    #             title=dict(\n",
    "    #                 text=\"<b>Variables</b>\"\n",
    "    #             ),\n",
    "    #             x=0.01,\n",
    "    #             y=0.97,\n",
    "    #             bgcolor=\"#292929\",\n",
    "    #             traceorder=\"normal\",\n",
    "    #             font={\"color\":\"#e1e1e1\"}\n",
    "    #             ),\n",
    "    #         xaxis=dict(\n",
    "    #             title=dict(\n",
    "    #                 text=x.name.title()\n",
    "    #             ),\n",
    "    #             gridcolor=\"#202020\",\n",
    "    #             gridwidth=10,\n",
    "    #             range=[0, x.max()+(x.max()//20)],\n",
    "    #             zeroline=False\n",
    "    #         ),\n",
    "    #         yaxis=dict(\n",
    "    #             title=dict(\n",
    "    #                 text=y.name.title()\n",
    "    #             ),\n",
    "    #             gridcolor=\"#202020\",\n",
    "    #             gridwidth=10,\n",
    "    #             range=[0, y.max()+(y.max()//20)],\n",
    "    #             zeroline=False\n",
    "    #         )\n",
    "    #     )\n",
    "    return ff.update_layout({\"title\": f\"confidence interval and prediction interval, {x.name} and {y.name}\",\n",
    "                           \"height\": height,\n",
    "                            \"width\": width,\n",
    "                            \"xaxis\":{\"title\": f\"{x.name}\"},\n",
    "                            \"yaxis\": {\"title\": f\"{y.name}\"}})\n",
    "\n",
    "mask = (michelin[\"bib_gourmand\"]!=1)\n",
    "\n",
    "x = michelin['Price'][mask]\n",
    "y = michelin['Award_ordinal'][mask]\n",
    "\n",
    "fig = scatter_bands(x, y, conf=0.95,  colors=px.colors.sequential.Sunset[::-1], opacity=0.01, height=650, width=1150)\n",
    "fig"
   ]
  },
  {
   "cell_type": "code",
   "execution_count": null,
   "id": "a3001220-a482-46dd-85e4-47885907f9ec",
   "metadata": {},
   "outputs": [],
   "source": []
  },
  {
   "cell_type": "code",
   "execution_count": null,
   "id": "45225d00-63a7-4152-91eb-5ca4854424df",
   "metadata": {},
   "outputs": [],
   "source": [
    "# begin charts"
   ]
  },
  {
   "cell_type": "code",
   "execution_count": null,
   "id": "0bb30f98-5279-4144-9c7b-6d7ae29ede61",
   "metadata": {},
   "outputs": [],
   "source": [
    "##### pie charts done"
   ]
  },
  {
   "cell_type": "code",
   "execution_count": null,
   "id": "0b99badc-3fa5-4ca0-9039-ceda9baefc49",
   "metadata": {},
   "outputs": [],
   "source": []
  },
  {
   "cell_type": "code",
   "execution_count": null,
   "id": "47b85c5a-6a1a-4506-bab1-06e86a0b16d7",
   "metadata": {},
   "outputs": [],
   "source": []
  },
  {
   "cell_type": "code",
   "execution_count": null,
   "id": "c8ecc968-790f-4928-b5ab-fb2dc5c9e2b5",
   "metadata": {},
   "outputs": [],
   "source": [
    "def count_groupby_one_dimensional(df, name):\n",
    "    return df.groupby([name]).count().iloc[::, :1].rename(columns={\"Name\": \"count\"}).reset_index()"
   ]
  },
  {
   "cell_type": "code",
   "execution_count": null,
   "id": "ff5eafd0-6aee-43f0-8da1-591ac6bc3263",
   "metadata": {},
   "outputs": [],
   "source": [
    "def pie_final(gb, name, sort=False, textposition=None, title=None, legend_title=None, colors=None):\n",
    "    \n",
    "    return px.pie(gb, values=\"count\", names=name, color_discrete_sequence=colors).update_traces(sort=sort, textposition=textposition).update_layout({\n",
    "        \"title\": {\"text\": title, \"x\": 0.5}, \"legend\": {\"title\": legend_title}\n",
    "    })"
   ]
  },
  {
   "cell_type": "code",
   "execution_count": null,
   "id": "486574e4-85fa-4d13-9fe8-36c9d48ea4e3",
   "metadata": {},
   "outputs": [],
   "source": [
    "# K\n",
    "pie_final(count_groupby_one_dimensional(michelin, \"sentiment_cuts\"), \"sentiment_cuts\", sort=False, textposition=None, title=\"sentiment composition\", legend_title=\"legend\", colors=px.colors.sequential.Oryel)"
   ]
  },
  {
   "cell_type": "code",
   "execution_count": null,
   "id": "dbbc22e8-b56f-4359-b15a-219594efdec5",
   "metadata": {},
   "outputs": [],
   "source": [
    "# M -> still need filtered dataframe\n",
    "\n",
    "pie_final(count_groupby_one_dimensional(michelin, \"Award\"), \"Award\", sort=None, textposition=None, title=\"awards composition\", legend_title=\"legend\", colors=px.colors.sequential.Oryel)"
   ]
  },
  {
   "cell_type": "code",
   "execution_count": null,
   "id": "93b0a568-a66c-423d-864d-69fec861e0e0",
   "metadata": {},
   "outputs": [],
   "source": [
    "# G\n",
    "\n",
    "pie_final(count_groupby_one_dimensional(michelin, \"Price\"), \"Price\", sort=False, textposition=None, title=\"price composition\", legend_title=\"legend\", colors=px.colors.sequential.Oryel)"
   ]
  },
  {
   "cell_type": "code",
   "execution_count": null,
   "id": "5beabf4a-f3ce-4f76-b219-ebbb793d8304",
   "metadata": {},
   "outputs": [],
   "source": [
    "# I\n",
    "\n",
    "pie_final(count_groupby_one_dimensional(michelin, \"amenities_sum\"), \"amenities_sum\", sort=False, textposition=\"inside\", title=\"number of amenitities composition\", legend_title=\"legend\", colors=px.colors.sequential.Oryel)"
   ]
  },
  {
   "cell_type": "code",
   "execution_count": null,
   "id": "7725e9a7-bb72-4821-9a59-97e03dfd2173",
   "metadata": {},
   "outputs": [],
   "source": []
  },
  {
   "cell_type": "code",
   "execution_count": null,
   "id": "51e61617-8fe5-4821-a1fe-65a1313613f7",
   "metadata": {},
   "outputs": [],
   "source": []
  },
  {
   "cell_type": "code",
   "execution_count": null,
   "id": "2a00f8af-aaae-421e-9e07-9cbf5e103241",
   "metadata": {},
   "outputs": [],
   "source": []
  },
  {
   "cell_type": "code",
   "execution_count": null,
   "id": "00f5e617-c384-4b00-8020-7ad56bdf674c",
   "metadata": {},
   "outputs": [],
   "source": [
    "# geo "
   ]
  },
  {
   "cell_type": "code",
   "execution_count": null,
   "id": "8432db75-72d2-44c8-b403-4a673465477f",
   "metadata": {},
   "outputs": [],
   "source": [
    "# create groupby for geo data\n",
    "# A feature engineering\n",
    "\n",
    "def groupby_three_cunts(df, x, z1, z2, z3, meas1=\"min\", meas2=\"mean\", meas3=\"max\"):\n",
    "    return df.groupby([x]).agg({z1: [\"count\", meas1, meas2, meas3], z2: [meas1, meas2, meas3], z3: [meas1, meas2, meas3]}).reset_index()\n",
    "\n",
    "gb_pyc = groupby_three_cunts(michelin, \"Country\", \"description_sentiment\", \"Award_ordinal\", \"proportion_amenities\", meas1=\"min\", meas2=\"mean\", meas3=\"max\")\n",
    "\n",
    "gb_pyc[\"Country\"] = gb_pyc[\"Country\"].str.strip()\n",
    "\n",
    "# parsing annoying string data for country codes\n",
    "\n",
    "country_dict = {\n",
    "    \"China Mainland\": \"China\",\n",
    "    \"Czech Republic\": \"Czechia\",\n",
    "    \"Hong Kong SAR China\": \"Hong Kong\",\n",
    "    \"South Korea\": \"Korea, Republic of\",\n",
    "    \"Taiwan\": \"Taiwan, Province of China\",\n",
    "    \"USA\": \"United States\",\n",
    "    \"Vietnam\": \"Viet Nam\",\n",
    "    \"Abu Dhabi\": \"United Arab Emirates\",\n",
    "    \"Dubai\": \"United Arab Emirates\",\n",
    "    \"Macau\": \"Macao\",\n",
    "}\n",
    "\n",
    "gb_pyc[\"Country\"] = gb_pyc[\"Country\"].replace(country_dict)\n",
    "\n",
    "# finally transpose into alpha 3 \"USA\" format\n",
    "import pycountry\n",
    "\n",
    "codes_dict = {}\n",
    "\n",
    "for py_c in pycountry.countries:\n",
    "    codes_dict[py_c.name] = {\n",
    "        \"two\": py_c.alpha_2,\n",
    "        \"three\": py_c.alpha_3,\n",
    "    }\n",
    "\n",
    "gb_pyc[\"Alpha_3\"] = [codes_dict[j][\"three\"] for j in gb_pyc[\"Country\"]]"
   ]
  },
  {
   "cell_type": "code",
   "execution_count": null,
   "id": "210f5378-4a95-4194-9e71-ce735f9d91e2",
   "metadata": {},
   "outputs": [],
   "source": [
    "#A -> get stuff from abo\n",
    "\n",
    "geojson = \"https://raw.githubusercontent.com/johan/world.geo.json/refs/heads/master/countries.geo.json\"\n",
    "\n",
    "def geo_better(gb, geojson, gb_location_column, z_upper, z_lower, height=500, width=700, colors=px.colors.diverging.RdYlBu):\n",
    "\n",
    "    \n",
    "    with urlopen(geojson) as response:\n",
    "        countries = json.load(response)\n",
    "    \n",
    "    \n",
    "    \n",
    "    trace = go.Choroplethmap(geojson=geojson, \n",
    "                             locations=gb[gb_location_column], \n",
    "                             z=gb[(z_upper, z_lower)],\n",
    "                             colorscale=colors, \n",
    "                             marker={\"line\": {\"width\": 0.001, \"color\": \"white\"}}\n",
    "                              )\n",
    "    return go.Figure([trace]).update_layout({\n",
    "        \"title\": f\"map of the world, {z_lower} of {z_upper} by country\", \"height\": 500, \"width\": 800,\n",
    "        \"legend\": {\"title\": f\"{z_upper}\"}\n",
    "    })\n",
    "\n",
    "z1 = \"description_sentiment\"\n",
    "z2 = \"Award_ordinal\"\n",
    "z3 = \"proportion_ameneties\"\n",
    "\n",
    "z1_lower_count = \"count\"\n",
    "z_lower_min = \"min\"\n",
    "z_lower_mean = \"mean\"\n",
    "z_lower_max = \"max\"\n",
    "\n",
    "fig = geo_better(gb_pyc, geojson, \"Alpha_3\", z2, z_lower_mean, colors=px.colors.sequential.Oryel)\n",
    "fig"
   ]
  },
  {
   "cell_type": "code",
   "execution_count": null,
   "id": "e6dd2440-2e47-4497-8f21-ab65f1ac2c4e",
   "metadata": {},
   "outputs": [],
   "source": []
  },
  {
   "cell_type": "code",
   "execution_count": null,
   "id": "01224789-afe7-43ee-9195-d875898b1112",
   "metadata": {},
   "outputs": [],
   "source": []
  },
  {
   "cell_type": "code",
   "execution_count": null,
   "id": "e7efe76e-742f-4496-8553-b903a141a1ed",
   "metadata": {},
   "outputs": [],
   "source": []
  },
  {
   "cell_type": "code",
   "execution_count": null,
   "id": "deda6011-2d35-4152-995c-ad144ff09dfc",
   "metadata": {},
   "outputs": [],
   "source": [
    "# scatter"
   ]
  },
  {
   "cell_type": "code",
   "execution_count": null,
   "id": "60333bb7-a5b6-4434-8b92-ce16bbac7662",
   "metadata": {},
   "outputs": [],
   "source": [
    "# J, done\n",
    "\n",
    "px.scatter(michelin,\n",
    "           x=\"description_sentiment\",\n",
    "           y=\"Award_ordinal\",\n",
    "           opacity=0.1,\n",
    "           color=\"Award_ordinal\",\n",
    "           symbol_sequence=[\"diamond-open\"],\n",
    "           color_continuous_scale=px.colors.sequential.Oryel,\n",
    "          ).update_layout({\"title\": \"awards by description sentiment\", \"height\": 400, \"width\": 650, \"showlegend\": False, \"coloraxis_showscale\": False})"
   ]
  },
  {
   "cell_type": "code",
   "execution_count": null,
   "id": "d47f333f-b309-4588-8d0a-099160653802",
   "metadata": {},
   "outputs": [],
   "source": []
  },
  {
   "cell_type": "code",
   "execution_count": null,
   "id": "9bc16010-f997-4f37-8d2a-2131dbc6afa5",
   "metadata": {},
   "outputs": [],
   "source": []
  },
  {
   "cell_type": "code",
   "execution_count": null,
   "id": "c9516672-07a6-4830-a0bf-67ea8e73fda6",
   "metadata": {},
   "outputs": [],
   "source": []
  },
  {
   "cell_type": "code",
   "execution_count": null,
   "id": "030899bb-5eac-4cee-b879-00506cf7792b",
   "metadata": {},
   "outputs": [],
   "source": [
    "# barchart percentages"
   ]
  },
  {
   "cell_type": "code",
   "execution_count": null,
   "id": "f6869f4f-7f80-4afa-b727-c9aeb3f62250",
   "metadata": {},
   "outputs": [],
   "source": [
    "# H, get transformations from above\n",
    "\n",
    "def bar_percentage_from_pivot(pivot, title, x_title=pivot.columns.name, y_title=pivot.index.name, colors=px.colors.sequential.Oryel, height=650, width=1050):\n",
    "    return px.bar(pivot, x=pivot.columns, y=pivot.index, color_discrete_sequence=colors).update_layout({\n",
    "        \"title\": title, \"height\": height, \"width\": width, \"xaxis\": {\"title\": x_title}, \"yaxis\": {\"title\": y_title},\n",
    "        \"legend\" : {\"visible\": False}\n",
    "    })\n",
    "\n",
    "bar_percentage_from_pivot(onehot_big_df, title=\"percentage of each michelin award, by presence of amenities\", y_title=\"amenities\", height=650, width=1050)"
   ]
  },
  {
   "cell_type": "code",
   "execution_count": null,
   "id": "e182ebba-ecb9-4ddc-a4b6-470178c25ad1",
   "metadata": {},
   "outputs": [],
   "source": []
  },
  {
   "cell_type": "code",
   "execution_count": null,
   "id": "f14ff2d3-2cd2-46f6-840a-be99de1af088",
   "metadata": {},
   "outputs": [],
   "source": []
  },
  {
   "cell_type": "code",
   "execution_count": null,
   "id": "366011a7-2706-4e67-9e30-64cbfc32d9b4",
   "metadata": {},
   "outputs": [],
   "source": []
  },
  {
   "cell_type": "code",
   "execution_count": null,
   "id": "97d24ed6-d8e4-41ef-84c5-4c53b3ea1995",
   "metadata": {},
   "outputs": [],
   "source": [
    "# price by country"
   ]
  },
  {
   "cell_type": "code",
   "execution_count": null,
   "id": "5291bbda-f9ec-4629-aade-56ceb7af88d4",
   "metadata": {},
   "outputs": [],
   "source": [
    "# F\n",
    "\n",
    "px.scatter(michelin, x=\"Country\", y=\"Award_ordinal\", opacity=0.1, size=\"Price\", color=\"Price\", symbol_sequence=[\"diamond-open\"]).update_layout({\n",
    "    \"width\": 800,\n",
    "    \"height\": 700\n",
    "})\n",
    "    "
   ]
  },
  {
   "cell_type": "code",
   "execution_count": null,
   "id": "80f3cf84-0b96-4c25-827f-9af33744d224",
   "metadata": {},
   "outputs": [],
   "source": []
  },
  {
   "cell_type": "code",
   "execution_count": null,
   "id": "7b5f787b-d452-4905-a511-18f5fb2f2918",
   "metadata": {},
   "outputs": [],
   "source": [
    "# bar, done"
   ]
  },
  {
   "cell_type": "code",
   "execution_count": null,
   "id": "9b6bcbe1-1325-4193-ade1-4daed077b2d2",
   "metadata": {},
   "outputs": [],
   "source": [
    "def groupby_percentage(df, col):\n",
    "    \n",
    "    gb_bar = michelin.groupby([col]).agg({michelin.columns[0]: \"count\"}).rename(columns={michelin.columns[0] : \"count\"})\n",
    "    gb_bar = (gb_bar / gb_bar.sum(axis=0))\n",
    "    gb_bar = gb_bar.T[[\"Selected Restaurants\", \"Bib Gourmand\", \"1 Star\", \"2 Stars\", \"3 Stars\"]].T.reset_index()\n",
    "\n",
    "    return gb_bar"
   ]
  },
  {
   "cell_type": "code",
   "execution_count": null,
   "id": "d3397e5e-23e6-4409-9a70-1b45740d04c4",
   "metadata": {},
   "outputs": [],
   "source": [
    "# L\n",
    "\n",
    "traces = []\n",
    "\n",
    "colors = cycle(iter(px.colors.sequential.Oryel))\n",
    "\n",
    "def groupby_percentage_to_trace(df, col, colors=colors):\n",
    "    \n",
    "    gb_bar = df.groupby([col]).agg({df.columns[0]: \"count\"}).rename(columns={df.columns[0] : \"count\"})\n",
    "    gb_bar = (gb_bar / gb_bar.sum(axis=0))\n",
    "    gb_bar = gb_bar.T[[\"Selected Restaurants\", \"Bib Gourmand\", \"1 Star\", \"2 Stars\", \"3 Stars\"]].T.reset_index()\n",
    "\n",
    "    return go.Bar(x = gb_bar[col], y = gb_bar[\"count\"], marker={\"color\": next(colors)})\n",
    "\n",
    "traces.append(groupby_percentage_to_trace(michelin, \"Award\"))\n",
    "traces.append(groupby_percentage_to_trace(michelin[michelin[\"description_sentiment\"] > 0.9], \"Award\"))\n",
    "\n",
    "go.Figure(traces)"
   ]
  },
  {
   "cell_type": "code",
   "execution_count": null,
   "id": "ce046a1c-4cb2-484a-9418-c0fc7328542b",
   "metadata": {},
   "outputs": [],
   "source": [
    "for attr1 in df[\"Award\"].unique():\n",
    "    if ctr < 1:\n",
    "        for attr2 in df[sliceable].unique():\n",
    "            fig.add_bar(\n",
    "                x = [attr1],\n",
    "                y = [df[j][(df[j]==attr1) & (df[sliceable]==attr2)].count()],\n",
    "                row=row,\n",
    "                col=col,\n",
    "                marker={\"color\": next(color_list)},         \n",
    "                name=str(attr2),\n",
    "                showlegend=True\n",
    "                )\n",
    "    else:\n",
    "        for attr2 in df[sliceable].unique():\n",
    "            fig.add_bar(\n",
    "                x = [attr1],\n",
    "                y = [df[j][(df[j]==attr1) & (df[sliceable]==attr2)].count()],\n",
    "                row=row,\n",
    "                col=col,\n",
    "                marker={\"color\": next(color_list)},         \n",
    "                name=str(attr2),\n",
    "                showlegend=False\n",
    "                )\n",
    "    ctr+=1"
   ]
  },
  {
   "cell_type": "code",
   "execution_count": null,
   "id": "395dfc3c-a372-40aa-b218-3901cce420e3",
   "metadata": {},
   "outputs": [],
   "source": []
  },
  {
   "cell_type": "code",
   "execution_count": null,
   "id": "063d0343-4d9d-4a6c-8986-639e973a2173",
   "metadata": {},
   "outputs": [],
   "source": []
  },
  {
   "cell_type": "code",
   "execution_count": null,
   "id": "3ff9f4c3-48dd-4a9f-a95e-2dc99ca56a61",
   "metadata": {},
   "outputs": [],
   "source": []
  },
  {
   "cell_type": "code",
   "execution_count": null,
   "id": "2ee59c0e-0923-4a69-adbb-dbfcbe1b277f",
   "metadata": {},
   "outputs": [],
   "source": []
  },
  {
   "cell_type": "code",
   "execution_count": null,
   "id": "fca07e72-053b-4cf4-9c47-ce75f36f0220",
   "metadata": {},
   "outputs": [],
   "source": [
    "# scatter 3d"
   ]
  },
  {
   "cell_type": "code",
   "execution_count": null,
   "id": "df7c272d-6341-46f5-badd-c81c3e22902f",
   "metadata": {},
   "outputs": [],
   "source": [
    "# x = \"ac\"\n",
    "# y = \"wine\"\n",
    "# z = \"Award_ordinal\"\n",
    "\n",
    "# def scatter_3d_simple(df, x, y, z, meas1=\"count\", meas2=\"mean\", symbol=\"circle\", size=1, opacity=0.5, colors=px.colors.sequential.Purples, height=650, width=1050):\n",
    "    \n",
    "#     gb = df.groupby([x, y]).agg({z: [meas1, meas2]}).reset_index()\n",
    "#     gb.columns = [x, y, meas1, meas2]\n",
    "    \n",
    "#     fig = px.scatter_3d(x=gb[x], \n",
    "#                   y=gb[y], \n",
    "#                   z=gb[meas2], \n",
    "#                   color=gb[meas1], \n",
    "#                   size=gb[meas1],\n",
    "#                   opacity=opacity,\n",
    "#                   symbol_sequence=[symbol],\n",
    "#                   color_continuous_scale=colors\n",
    "#                  ).update_traces({\"marker\": {\"line\": {\"width\": 0}, \"size\": [h * size for h in gb[meas1]]}})\n",
    "\n",
    "#     return gb, fig.update_layout({\"title\": {\"text\": f\"{x}, {y}, and {z}, by {meas2} and {meas1}\", \"x\": 0.5}, \"height\": height, \"width\": width,\n",
    "#                              \"scene\": {\"xaxis\": {\"title\": f\"{x}\"},\n",
    "#                                        \"yaxis\": {\"title\": f\"{y}\"},\n",
    "#                                        \"zaxis\": {\"title\": f\"{z}\"}}\n",
    "#                              })\n",
    "\n",
    "# gb, fig = scatter_3d_simple(michelin, x=x, y=y, z=z, meas1=\"count\", meas2=\"mean\", symbol=\"circle\", size=10, opacity=0.5, colors=px.colors.sequential.Oryel, height=650, width=650)"
   ]
  },
  {
   "cell_type": "code",
   "execution_count": null,
   "id": "b79d3163-7636-4cb5-8cd9-02d8bee0bed6",
   "metadata": {},
   "outputs": [],
   "source": [
    "# fig"
   ]
  },
  {
   "cell_type": "code",
   "execution_count": null,
   "id": "6616e342-507b-433a-ae0c-215136a59078",
   "metadata": {},
   "outputs": [],
   "source": [
    "# C\n",
    "px.histogram(michelin, x=z)"
   ]
  },
  {
   "cell_type": "code",
   "execution_count": null,
   "id": "28cc8d5d-906b-42d8-8f45-0c58826494d3",
   "metadata": {},
   "outputs": [],
   "source": [
    "# D\n",
    "px.histogram(michelin, x=y)\n",
    "px.histogram(michelin, x=z)\n",
    "px.histogram(michelin, x=x)"
   ]
  },
  {
   "cell_type": "code",
   "execution_count": null,
   "id": "3bf75ead-c3a7-44ff-912b-0bd3b7daae5a",
   "metadata": {},
   "outputs": [],
   "source": [
    "# E\n",
    "px.histogram(michelin, x=x)"
   ]
  },
  {
   "cell_type": "code",
   "execution_count": null,
   "id": "c9df3994-af87-4e4d-8238-50f70afc5f0e",
   "metadata": {},
   "outputs": [],
   "source": [
    "# traces = []\n",
    "\n",
    "# trace0 = go.Bar(\n",
    "#     x=michelin[\"\"],\n",
    "#     y=michelin[\"Award\"],"
   ]
  },
  {
   "cell_type": "code",
   "execution_count": null,
   "id": "826b03ea-b30b-4288-97fc-bd719afc0b30",
   "metadata": {},
   "outputs": [],
   "source": []
  },
  {
   "cell_type": "code",
   "execution_count": null,
   "id": "b69c6ab9-4d62-49d5-b39a-12e503b11c70",
   "metadata": {},
   "outputs": [],
   "source": []
  },
  {
   "cell_type": "code",
   "execution_count": null,
   "id": "8939dfbf-5a98-4a12-aff1-53b9feb92dd5",
   "metadata": {},
   "outputs": [],
   "source": []
  },
  {
   "cell_type": "code",
   "execution_count": null,
   "id": "5eea269d-34eb-4d13-add2-9147ceb1a80d",
   "metadata": {},
   "outputs": [],
   "source": []
  },
  {
   "cell_type": "code",
   "execution_count": null,
   "id": "627e62c3-4f7c-4a61-9107-7674624e1faf",
   "metadata": {},
   "outputs": [],
   "source": [
    "# michelin = michelin[michelin[\"description_sentiment\"]==0]"
   ]
  },
  {
   "cell_type": "code",
   "execution_count": null,
   "id": "f416a27e-22df-401f-a5aa-d4a03b9a4f4d",
   "metadata": {},
   "outputs": [],
   "source": [
    "michelin[\"description_sentiment\"] = michelin[\"description_sentiment\"].replace(0, np.nan)"
   ]
  },
  {
   "cell_type": "code",
   "execution_count": null,
   "id": "5877784f-a0ea-482f-a67a-e79d74cc7111",
   "metadata": {},
   "outputs": [],
   "source": [
    "michelin[\"description_sentiment\"].isnull().sum()"
   ]
  },
  {
   "cell_type": "code",
   "execution_count": null,
   "id": "942fa4b0-011f-4912-855c-29268b4af0aa",
   "metadata": {},
   "outputs": [],
   "source": [
    "michelin.columns"
   ]
  },
  {
   "cell_type": "code",
   "execution_count": null,
   "id": "6d24929c-4947-4dde-b1f4-018a465758fb",
   "metadata": {},
   "outputs": [],
   "source": [
    "# nan_mask = (michelin[\"description_sentiment\"]==np.nan)\n",
    "\n",
    "# award1_mask = (michelin[\"Award_ordinal\"]==1)\n",
    "# award2_mask = (michelin[\"Award_ordinal\"]==2)\n",
    "# award3_mask = (michelin[\"Award_ordinal\"]==3)\n",
    "# award4_mask = (michelin[\"Award_ordinal\"]==4)\n",
    "# award5_mask = (michelin[\"Award_ordinal\"]==5)\n",
    "\n",
    "# interpolate() np.nan for col.unique(), col.unique(), col.unique() \n",
    "\n",
    "\n",
    "# michelin.loc[nan_mask & award1_mask, \"description_sentiment\"] = michelin.loc[award1_mask, \"description_sentiment\"].mean()\n",
    "# ...\n"
   ]
  },
  {
   "cell_type": "code",
   "execution_count": null,
   "id": "4709fa7a-fad9-493f-914d-1c31cfcbca83",
   "metadata": {},
   "outputs": [],
   "source": [
    "# # award\n",
    "\n",
    "# # df.loc[df['A'] == 2, 'B'] = \n",
    "\n",
    "# interpolate_cols = [\"description_sentiment\", \"Award_ordinal\"]\n",
    "\n",
    "\n",
    "# # initial mask\n",
    "# nan_mask = (michelin[\"description_sentiment\"]==np.nan)\n",
    "\n",
    "# # primary mask\n",
    "# award1_mask = (michelin[\"Award_ordinal\"]==1)\n",
    "# award2_mask = (michelin[\"Award_ordinal\"]==2)\n",
    "# award3_mask = (michelin[\"Award_ordinal\"]==3)\n",
    "# award4_mask = (michelin[\"Award_ordinal\"]==4)\n",
    "# award5_mask = (michelin[\"Award_ordinal\"]==5)\n",
    "\n",
    "# ac1_mask = (michelin[\"ac\"]==1)\n",
    "# ac0_mask = (michelin[\"ac\"]==0)\n",
    "# wheelchair1_mask = (michelin[\"wheelchair\"]==1)\n",
    "# wheelchair0_mask = (michelin[\"wheelchair\"]==0)\n",
    "# parking1_mask = (michelin[\"parking\"]==1)\n",
    "# parking0_mask = (michelin[\"parking\"]==0)\n",
    "# garden1_mask = (michelin[\"garden\"]==1)\n",
    "# garden0_mask = (michelin[\"garden\"]==0)\n",
    "# wine1_mask = (michelin[\"wine\"]==1)\n",
    "# wine0_mask = (michelin[\"wine\"]==0)\n",
    "# terrace1_mask = (michelin[\"terrace\"]==1)\n",
    "# terrace0_mask = (michelin[\"terrace\"]==0)\n",
    "# valet1_mask = (michelin[\"valet\"]==1)\n",
    "# valet0_mask = (michelin[\"valet\"]==0)\n",
    "# vegetarian1_mask = (michelin[\"vegetarian\"]==1)\n",
    "# vegetarian0_mask = (michelin[\"vegetarian\"]==0)\n",
    "# counter1_mask = (michelin[\"counter\"]==1)\n",
    "# counter0_mask = (michelin[\"counter\"]==0)\n",
    "# view1_mask = (michelin[\"view\"]==1)\n",
    "# view0_mask = (michelin[\"view\"]==0)\n",
    "# noshoes1_mask = (michelin[\"noshoes\"]==1)\n",
    "# noshoes0_mask = (michelin[\"noshoes\"]==0)\n",
    "# cashonly1_mask = (michelin[\"cashonly\"]==1)\n",
    "# cashonly0_mask = (michelin[\"cashonly\"]==0)\n",
    "# sake1_mask = (michelin[\"sake\"]==1)\n",
    "# sake0_mask = (michelin[\"sake\"]==0)\n",
    "\n",
    "\n",
    "\n"
   ]
  },
  {
   "cell_type": "code",
   "execution_count": null,
   "id": "b22297e3-081d-4dfb-aa78-3be898cc1f46",
   "metadata": {},
   "outputs": [],
   "source": [
    "gb_3d"
   ]
  },
  {
   "cell_type": "code",
   "execution_count": null,
   "id": "39924249-5a63-4202-b0f3-6210ed645fa1",
   "metadata": {},
   "outputs": [],
   "source": [
    "fig_R = px.histogram(michelin, x=\"Award_ordinal\", color_discrete_sequence=px.colors.sequential.Oryel)\n",
    "fig_C = px.histogram(michelin, x=\"description_sentiment\", color_discrete_sequence=px.colors.sequential.Oryel)\n",
    "fig_D = px.histogram(michelin, x=\"amenities_sum\", color_discrete_sequence=px.colors.sequential.Oryel)\n",
    "fig_E = px.histogram(michelin, x=\"Price\", color_discrete_sequence=px.colors.sequential.Oryel)"
   ]
  },
  {
   "cell_type": "code",
   "execution_count": null,
   "id": "b161bbc9-8766-4fff-9653-1a8db5ee864e",
   "metadata": {},
   "outputs": [],
   "source": [
    "# chart B\n",
    "\n",
    "def groupby_for_3d():\n",
    "    gb_3d = michelin.groupby([\"amenities_sum\", \"Price\", \"Award_ordinal\"]).agg({\"description_sentiment\": [\"mean\", \"count\"]}).reset_index()\n",
    "    gb_3d.columns = [\"amenities_sum\", \"Price\", \"Award_ordinal\", \"sentiment_mean\", \"count\"]\n",
    "    return gb_3d\n",
    "\n",
    "gb_3d = groupby_for_3d()\n",
    "\n",
    "fig_B = px.scatter_3d(gb_3d, \n",
    "    x=\"Price\",\n",
    "    y=\"amenities_sum\",\n",
    "    z=\"Award_ordinal\",\n",
    "    color=\"sentiment_mean\",\n",
    "    size=\"count\",\n",
    "    # symbol_sequence=[\"diamond-open\"]\n",
    ").update_layout({\"title\": \"price, num of amenities, and award received, with color as sentiment\"}).update_traces(\n",
    "    {\"marker\": {\"line\": {\"width\": 0}, \"size\": [h * 10 for h in gb_3d[\"count\"]]}})\n",
    "\n",
    "fig_B"
   ]
  },
  {
   "cell_type": "code",
   "execution_count": null,
   "id": "859e37b9-23ba-4986-bd67-b890801b8f4a",
   "metadata": {},
   "outputs": [],
   "source": [
    "# size=100\n",
    "# px.scatter_3d(\n",
    "#     x=gb_3d[\"Award_ordinal\"],\n",
    "#     y=gb_3d[\"amenities_sum\"],\n",
    "#     z=gb_3d[\"sentiment\"],\n",
    "#     color=gb_3d[\"Award_ordinal\"],\n",
    "#     size=gb_3d[\"count\"],\n",
    "# ).update_traces({\"marker\": {\"line\": {\"width\": 0}, \"size\": [size * h for h in gb_3d[\"count\"]]}}).update_layout({\"height\": 650, \"width\": 650})"
   ]
  },
  {
   "cell_type": "code",
   "execution_count": null,
   "id": "1c3fb37c-5da5-4e82-8c3b-fc838b3d0448",
   "metadata": {},
   "outputs": [],
   "source": [
    "# px.scatter_3d(\n",
    "#     michelin,\n",
    "#     x=\"amenities_sum\",\n",
    "#     y=\"description_sentiment\",\n",
    "#     z=\"Award_ordinal\",\n",
    "#     color=\"Award_ordinal\",\n",
    "#     opacity=0.01\n",
    "# ).update_layout({\"height\":650, \"width\": 650})"
   ]
  }
 ],
 "metadata": {
  "kernelspec": {
   "display_name": "Python 3 (ipykernel)",
   "language": "python",
   "name": "python3"
  },
  "language_info": {
   "codemirror_mode": {
    "name": "ipython",
    "version": 3
   },
   "file_extension": ".py",
   "mimetype": "text/x-python",
   "name": "python",
   "nbconvert_exporter": "python",
   "pygments_lexer": "ipython3",
   "version": "3.12.6"
  }
 },
 "nbformat": 4,
 "nbformat_minor": 5
}
